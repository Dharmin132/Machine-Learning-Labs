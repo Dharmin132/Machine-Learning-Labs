{
  "nbformat": 4,
  "nbformat_minor": 0,
  "metadata": {
    "colab": {
      "name": "201701198_IE406_Lab3.ipynb",
      "provenance": [],
      "collapsed_sections": []
    },
    "kernelspec": {
      "name": "python3",
      "display_name": "Python 3"
    }
  },
  "cells": [
    {
      "cell_type": "markdown",
      "metadata": {
        "id": "yXd0HQ9RauEE",
        "colab_type": "text"
      },
      "source": [
        "Mounting the Google Drive."
      ]
    },
    {
      "cell_type": "code",
      "metadata": {
        "id": "pEi0vTH3ZAHW",
        "colab_type": "code",
        "cellView": "both",
        "colab": {}
      },
      "source": [
        "from google.colab import drive\n",
        "drive.mount('/content/drive/')"
      ],
      "execution_count": 0,
      "outputs": []
    },
    {
      "cell_type": "markdown",
      "metadata": {
        "id": "BmjOEmOga0AV",
        "colab_type": "text"
      },
      "source": [
        "\n",
        "Importing Libraries"
      ]
    },
    {
      "cell_type": "code",
      "metadata": {
        "id": "tBORpo6KiYwM",
        "colab_type": "code",
        "colab": {}
      },
      "source": [
        "import matplotlib.pyplot as plt \n",
        "import numpy as np\n",
        "from sympy import *\n",
        "import pandas as pd\n",
        "from mpl_toolkits.mplot3d import axes3d"
      ],
      "execution_count": 0,
      "outputs": []
    },
    {
      "cell_type": "markdown",
      "metadata": {
        "id": "bkxZ74zpnucQ",
        "colab_type": "text"
      },
      "source": [
        "Defining hypothesis function Sigmoid : h(θ) = g(θ_transpose•X)"
      ]
    },
    {
      "cell_type": "code",
      "metadata": {
        "id": "UbXePfd5o76M",
        "colab_type": "code",
        "colab": {}
      },
      "source": [
        "import sympy\n",
        "\n",
        "def cal_h(value,X):\n",
        "    t = np.dot(value,X)\n",
        "    d = sympy.exp(-t)\n",
        "    h = 1/(1+d)\n",
        "    return float(h)"
      ],
      "execution_count": 0,
      "outputs": []
    },
    {
      "cell_type": "markdown",
      "metadata": {
        "id": "SpPXoRG4UyKL",
        "colab_type": "text"
      },
      "source": [
        "Function for Stochastic Descent."
      ]
    },
    {
      "cell_type": "code",
      "metadata": {
        "id": "ue2CceEmqnak",
        "colab_type": "code",
        "colab": {}
      },
      "source": [
        "def Classifier(y,X,N,a,size):\n",
        "  \n",
        "  value = [5]*size\n",
        "  temp = [0]*size\n",
        "  \n",
        "  for i in range(1000):\n",
        "    number = random.randint(0,N-1)\n",
        "    h_theta = cal_h(value,X[number,:])\n",
        "    for j in range(len(value)):\n",
        "      temp[j] = value[j] +a*(y[number] - h_theta)*X[number][j]\n",
        "    value = temp\n",
        "  return value"
      ],
      "execution_count": 0,
      "outputs": []
    },
    {
      "cell_type": "markdown",
      "metadata": {
        "id": "3UYnZ3r3XCKW",
        "colab_type": "text"
      },
      "source": [
        "Dataset 1"
      ]
    },
    {
      "cell_type": "code",
      "metadata": {
        "id": "Hs5o1gNoXF6Y",
        "colab_type": "code",
        "colab": {}
      },
      "source": [
        "import pandas as pd\n",
        "import random\n",
        "\n",
        "df = pd.read_excel('/content/drive/My Drive/IE406- ML- Labs/Lab 3/ex2data1-logistic.xls')\n",
        "x1 = np.array(df['x1'])\n",
        "x1 = (x1-x1.mean())/np.sqrt(x1.var())\n",
        "x2 = np.array(df['x2'])\n",
        "x2 = (x2-x2.mean())/np.sqrt(x2.var())\n",
        "y = np.array(df['y'])"
      ],
      "execution_count": 0,
      "outputs": []
    },
    {
      "cell_type": "code",
      "metadata": {
        "id": "v19Qg9Thjde9",
        "colab_type": "code",
        "colab": {
          "base_uri": "https://localhost:8080/",
          "height": 35
        },
        "outputId": "d8481478-d583-4060-bdc8-6c2eeb7c0208"
      },
      "source": [
        "x1_0 = []\n",
        "x1_1 = []\n",
        "x2_1 = []\n",
        "x2_0 = []\n",
        "for i in range (len(x1)):\n",
        "  if y[i]:\n",
        "    x1_1.append(x1[i])\n",
        "    x2_1.append(x2[i])\n",
        "  else:\n",
        "      x1_0.append(x1[i])\n",
        "      x2_0.append(x2[i])\n",
        "\n",
        "temp = np.ones((len(x1),1))\n",
        "X = np.c_[temp,x1,x2]\n",
        "\n",
        "h = Symbol('h')\n",
        "\n",
        "theta = Classifier(y,X,len(X),0.01,3)\n",
        "a = np.array([min(x1),max(x1)])\n",
        "b = (-theta[0]-theta[1]*a)/theta[2]\n",
        "\n",
        "count = 0;\n",
        "i = random.sample(range(0, len(X)-1), 10)\n",
        "for j in range (len(i)):\n",
        "  prob = cal_h(theta,X[i[j]])\n",
        "  if prob>=0.5 and y[i[j]] == 1:\n",
        "    count = count+1\n",
        "  if prob<0.5 and y[i[j]] == 0:\n",
        "    count = count+1\n",
        "\n",
        "print('Accuracy =',count/len(i)*100,'%')"
      ],
      "execution_count": 88,
      "outputs": [
        {
          "output_type": "stream",
          "text": [
            "Accuracy = 90.0 %\n"
          ],
          "name": "stdout"
        }
      ]
    },
    {
      "cell_type": "code",
      "metadata": {
        "id": "ACuVyLbwkDzZ",
        "colab_type": "code",
        "colab": {
          "base_uri": "https://localhost:8080/",
          "height": 283
        },
        "outputId": "4033beb3-2362-418c-d5ac-6c7329d8698b"
      },
      "source": [
        "fig = plt.figure()\n",
        "ax1 = fig.add_subplot(111)\n",
        "ax1.scatter(x1_0, x2_0, color= \"blue\")\n",
        "ax1.scatter(x1_1, x2_1, color= \"red\")\n",
        "ax1.set_xlabel('x1')\n",
        "ax1.set_ylabel('x2')\n",
        "ax1.plot(a,b)\n",
        "plt.show()"
      ],
      "execution_count": 89,
      "outputs": [
        {
          "output_type": "display_data",
          "data": {
            "image/png": "[encoded data removed]",
            "text/plain": [
              "<Figure size 432x288 with 1 Axes>"
            ]
          },
          "metadata": {
            "tags": []
          }
        }
      ]
    },
    {
      "cell_type": "markdown",
      "metadata": {
        "id": "-R4-9VNLkHcP",
        "colab_type": "text"
      },
      "source": [
        "Dataset 2"
      ]
    },
    {
      "cell_type": "code",
      "metadata": {
        "id": "7B9ii82ukJ8G",
        "colab_type": "code",
        "colab": {
          "base_uri": "https://localhost:8080/",
          "height": 35
        },
        "outputId": "a99995fa-64e0-4b4a-a703-c211e5d1f486"
      },
      "source": [
        "import pandas as pd\n",
        "import random\n",
        "\n",
        "df = pd.read_excel('/content/drive/My Drive/IE406- ML- Labs/Lab 3/ex2data2-logistic.xls')\n",
        "x1 = np.array(df['x1'])\n",
        "x1 = (x1-np.mean(x1))/np.std(x1)\n",
        "x2 = np.array(df['x2'])\n",
        "x2 = (x2-np.mean(x2))/np.std(x2)\n",
        "y = np.array(df['y'])\n",
        "\n",
        "x1_0 = []\n",
        "x1_1 = []\n",
        "x2_1 = []\n",
        "x2_0 = []\n",
        "for i in range (len(x1)):\n",
        "  if y[i]:\n",
        "    x1_1.append(x1[i])\n",
        "    x2_1.append(x2[i])\n",
        "  else:\n",
        "      x1_0.append(x1[i])\n",
        "      x2_0.append(x2[i])\n",
        "      \n",
        "temp = np.ones((len(x1),1))\n",
        "X = np.c_[temp,x1,x2,np.square(x1),np.square(x2),x1*x2,np.square(x1)*x2,np.square(x2)*x1]\n",
        "\n",
        "\n",
        "theta = Classifier(y,X,len(X),0.01,8)\n",
        "print('Theta =',theta)  "
      ],
      "execution_count": 91,
      "outputs": [
        {
          "output_type": "stream",
          "text": [
            "Theta = [2.346936638175027, 3.2983006018212997, 3.5420793037909446, 0.5850468822415829, 1.2980304566649914, 5.4912402654455335, 4.038221691542723, 3.8036450624372335]\n"
          ],
          "name": "stdout"
        }
      ]
    },
    {
      "cell_type": "code",
      "metadata": {
        "id": "VXbpDB06klxx",
        "colab_type": "code",
        "colab": {
          "base_uri": "https://localhost:8080/",
          "height": 52
        },
        "outputId": "8e77f4b7-3b66-411c-fa83-7db81e1dbe95"
      },
      "source": [
        "z = np.arange(min(x1),max(x1),0.01)\n",
        "a = theta[7]*z + theta[4]\n",
        "b = theta[2] + theta[5]*z + theta[6]*np.square(z)\n",
        "c = theta[0] + theta[1]*z + theta[3]*np.square(z)\n",
        "\n",
        "roots = np.zeros((len(z),2))\n",
        "for i in range (len(z)):\n",
        "  roots[i] = np.roots([a[i],b[i],c[i]])"
      ],
      "execution_count": 92,
      "outputs": [
        {
          "output_type": "stream",
          "text": [
            "/usr/local/lib/python3.6/dist-packages/ipykernel_launcher.py:8: ComplexWarning: Casting complex values to real discards the imaginary part\n",
            "  \n"
          ],
          "name": "stderr"
        }
      ]
    },
    {
      "cell_type": "code",
      "metadata": {
        "id": "psAdELzJks5m",
        "colab_type": "code",
        "colab": {
          "base_uri": "https://localhost:8080/",
          "height": 279
        },
        "outputId": "b7d574ec-f682-4d50-9e6b-0662a1a8dd1b"
      },
      "source": [
        "fig = plt.figure()\n",
        "ax1 = fig.add_subplot(111)\n",
        "\n",
        "ax1.scatter(x1_0, x2_0, color= \"green\")\n",
        "ax1.scatter(x1_1, x2_1, color= \"blue\")\n",
        "ax1.set_xlabel('x1')\n",
        "ax1.set_ylabel('x2')\n",
        "\n",
        "plt.show()"
      ],
      "execution_count": 93,
      "outputs": [
        {
          "output_type": "display_data",
          "data": {
            "image/png": "[encoded data removed]",
            "text/plain": [
              "<Figure size 432x288 with 1 Axes>"
            ]
          },
          "metadata": {
            "tags": []
          }
        }
      ]
    },
    {
      "cell_type": "code",
      "metadata": {
        "id": "am_CciU9kyi6",
        "colab_type": "code",
        "colab": {
          "base_uri": "https://localhost:8080/",
          "height": 35
        },
        "outputId": "c45b5faa-f46d-48c0-b31f-ed5e50d97742"
      },
      "source": [
        "count = 0;\n",
        "i = random.sample(range(0, len(X)-1), 10)\n",
        "for j in range (len(i)):\n",
        "  prob = cal_h(theta,X[i[j]])\n",
        "  if prob>=0.5 and y[i[j]] == 1:\n",
        "    count = count+1\n",
        "  if prob<0.5 and y[i[j]] == 0:\n",
        "    count = count+1\n",
        "\n",
        "print('Accuracy =',count/len(i)*100,'%')\n"
      ],
      "execution_count": 94,
      "outputs": [
        {
          "output_type": "stream",
          "text": [
            "Accuracy = 60.0 %\n"
          ],
          "name": "stdout"
        }
      ]
    },
    {
      "cell_type": "markdown",
      "metadata": {
        "colab_type": "text",
        "id": "Btd4Epq1Atu8"
      },
      "source": [
        "**---------------------- END OF CODE ----------------------**"
      ]
    }
  ]
}