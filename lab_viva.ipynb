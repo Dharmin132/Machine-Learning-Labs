{
 "cells": [
  {
   "cell_type": "code",
   "execution_count": null,
   "metadata": {},
   "outputs": [],
   "source": [
    "import numpy as np\n",
    "from sympy import *"
   ]
  },
  {
   "cell_type": "markdown",
   "metadata": {},
   "source": [
    "## Q-1 : Calculate prior probability given X and y."
   ]
  },
  {
   "cell_type": "code",
   "execution_count": null,
   "metadata": {},
   "outputs": [],
   "source": [
    "noClass = np.unique(y)\n",
    "noSamples = X.shape[0]\n",
    "noFeatures = X.shape[1]\n",
    "\n",
    "for i, c in enumerate(noClass):\n",
    "    if(X == c):\n",
    "        prior[i] = X.shape[0]/float(noSamples)\n",
    "\n"
   ]
  },
  {
   "cell_type": "markdown",
   "metadata": {},
   "source": [
    "## Q-2 : Calculate Binary Cross Entropy given X and y."
   ]
  },
  {
   "cell_type": "code",
   "execution_count": null,
   "metadata": {},
   "outputs": [],
   "source": [
    "def _sigmoid(x):\n",
    "    return 1/(1 + np.exp(-x))"
   ]
  },
  {
   "cell_type": "code",
   "execution_count": null,
   "metadata": {},
   "outputs": [],
   "source": [
    "def CrossEntropy(X_train, y_train):\n",
    "\n",
    "    th0 = Symbol('th0')\n",
    "    th1 = Symbol('th1')\n",
    "    th2 = Symbol('th2')\n",
    "\n",
    "    for i in range(len(X_train)):\n",
    "        linarModel = th0 + x[0]*th1 + x[1]*th2\n",
    "        yPred = _sigmoid(linarModel)\n",
    "\n",
    "        temp[i] = np.sum( -(yPred*np.log(linarModel)) - ((i-yPred)*np.log(1-linarModel)) )\n",
    "\n",
    "    return temp"
   ]
  },
  {
   "cell_type": "markdown",
   "metadata": {},
   "source": [
    "## Q-3 : Calculate Bias and variance given true function F and estimated function H."
   ]
  },
  {
   "cell_type": "code",
   "execution_count": null,
   "metadata": {},
   "outputs": [],
   "source": [
    "for i in range(its):\n",
    "  h[i] = theta[i][0] + theta[i][1]*x\n",
    "\n",
    "H = np.mean(h, axis=0)\n",
    "\n",
    "bias = H - F\n",
    "\n",
    "for i in range(its):\n",
    "  temp[i] = np.square( h[i] - H )\n",
    "\n",
    "var = np.mean(temp, axis=0)"
   ]
  }
 ],
 "metadata": {
  "language_info": {
   "codemirror_mode": {
    "name": "ipython",
    "version": 3
   },
   "file_extension": ".py",
   "mimetype": "text/x-python",
   "name": "python",
   "nbconvert_exporter": "python",
   "pygments_lexer": "ipython3",
   "version": 3
  },
  "orig_nbformat": 2
 },
 "nbformat": 4,
 "nbformat_minor": 2
}