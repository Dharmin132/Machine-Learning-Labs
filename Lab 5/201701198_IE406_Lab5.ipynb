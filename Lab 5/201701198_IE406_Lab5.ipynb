{
  "nbformat": 4,
  "nbformat_minor": 0,
  "metadata": {
    "colab": {
      "name": "201701198_IE406_Lab5.ipynb",
      "provenance": [],
      "collapsed_sections": []
    },
    "kernelspec": {
      "name": "python3",
      "display_name": "Python 3"
    }
  },
  "cells": [
    {
      "cell_type": "markdown",
      "metadata": {
        "id": "mR_5sjLYZ4K7",
        "colab_type": "text"
      },
      "source": [
        "**Author : Dharmin Solanki (ID: 201701198)**"
      ]
    },
    {
      "cell_type": "markdown",
      "metadata": {
        "id": "hB474sbmS6EW",
        "colab_type": "text"
      },
      "source": [
        "Importing Libraries"
      ]
    },
    {
      "cell_type": "code",
      "metadata": {
        "id": "Vcpiqdf0lAee",
        "colab_type": "code",
        "colab": {}
      },
      "source": [
        "import numpy as np\n",
        "import matplotlib.pyplot as plt"
      ],
      "execution_count": 0,
      "outputs": []
    },
    {
      "cell_type": "markdown",
      "metadata": {
        "id": "HP_K8OPYo_rz",
        "colab_type": "text"
      },
      "source": [
        "**-------------------------------------------------------------------------------------------**"
      ]
    },
    {
      "cell_type": "markdown",
      "metadata": {
        "id": "RFzUQL5_WJ16",
        "colab_type": "text"
      },
      "source": [
        "Defining true function f(x) = x + 2•sin(1.5x)."
      ]
    },
    {
      "cell_type": "code",
      "metadata": {
        "id": "fl-jH8sck16d",
        "colab_type": "code",
        "colab": {}
      },
      "source": [
        "a=1.5\n",
        "pi=np.pi\n",
        "its=1000  # =number of experiments\n",
        "k=12000\n",
        "\n",
        "temp=((2*pi)/(a*its))*k\n",
        "step=(temp-1)/1000\n",
        "\n",
        "x=np.arange(1, temp, step)\n",
        "\n",
        "temp0=np.sin(a*x)\n",
        "\n",
        "f0 = x + 2*temp0    #true function\n",
        "\n",
        "mean=0\n",
        "var=2\n",
        "std=np.sqrt(var)\n",
        "\n",
        "f = np.zeros([its,len(x)])\n",
        "\n",
        "for i in range(its):\n",
        "  noise = np.random.normal(mean, var, its)\n",
        "  f[i] = f0 + noise   #function with noise"
      ],
      "execution_count": 0,
      "outputs": []
    },
    {
      "cell_type": "markdown",
      "metadata": {
        "id": "uHW5fzepo-Xk",
        "colab_type": "text"
      },
      "source": [
        "**####################################################################**"
      ]
    },
    {
      "cell_type": "markdown",
      "metadata": {
        "id": "n-91A5eGkKuE",
        "colab_type": "text"
      },
      "source": [
        "**Question 1 -** Linear hypothesis model : h(θ) = θ₀ + θ₁•x ."
      ]
    },
    {
      "cell_type": "markdown",
      "metadata": {
        "id": "CincNcMtk18w",
        "colab_type": "text"
      },
      "source": [
        "> Calculating h(θ)."
      ]
    },
    {
      "cell_type": "code",
      "metadata": {
        "id": "vJHW1jGLk5Qc",
        "colab_type": "code",
        "colab": {}
      },
      "source": [
        "theta = np.zeros([its, 2])\n",
        "\n",
        "temp3 = np.ones((len(x),1))\n",
        "X = np.c_[temp3,x]\n",
        "Xtx=np.matmul(X.T,X)\n",
        "Xtx_inv=np.linalg.inv(Xtx)\n",
        "temp4 = np.matmul(Xtx_inv, X.T)\n",
        "\n",
        "for i in range(its):\n",
        "  theta[i] = np.matmul(temp4, f[i])\n",
        "\n",
        "h = np.zeros([its, len(x)])\n",
        "for i in range(its):\n",
        "  h[i] = theta[i][0] + theta[i][1]*x  # h(theta)"
      ],
      "execution_count": 0,
      "outputs": []
    },
    {
      "cell_type": "markdown",
      "metadata": {
        "id": "AHT07zJRnEBN",
        "colab_type": "text"
      },
      "source": [
        "> Calculating expectation (i.e. mean)."
      ]
    },
    {
      "cell_type": "code",
      "metadata": {
        "id": "E8vLzmhHnMXg",
        "colab_type": "code",
        "colab": {}
      },
      "source": [
        "E_h = np.mean(h, axis=0)   # expectation(h)"
      ],
      "execution_count": 0,
      "outputs": []
    },
    {
      "cell_type": "markdown",
      "metadata": {
        "id": "micJ6y9msFJS",
        "colab_type": "text"
      },
      "source": [
        "> Calculating the mean squared error."
      ]
    },
    {
      "cell_type": "code",
      "metadata": {
        "id": "yIR-EiLWsJsQ",
        "colab_type": "code",
        "colab": {}
      },
      "source": [
        "err = np.zeros([its, len(x)])\n",
        "\n",
        "for i in range(its):\n",
        "  err[i] = h[i] - f0\n",
        "\n",
        "temp5 = np.square(err)\n",
        "mse = np.mean(temp5, axis=0)"
      ],
      "execution_count": 0,
      "outputs": []
    },
    {
      "cell_type": "markdown",
      "metadata": {
        "id": "fQjRYs__azjC",
        "colab_type": "text"
      },
      "source": [
        "> Calculating Bias."
      ]
    },
    {
      "cell_type": "code",
      "metadata": {
        "id": "z5PslbV2a4jc",
        "colab_type": "code",
        "colab": {}
      },
      "source": [
        "bias = E_h - f0"
      ],
      "execution_count": 0,
      "outputs": []
    },
    {
      "cell_type": "markdown",
      "metadata": {
        "id": "fc3myrIPt9hU",
        "colab_type": "text"
      },
      "source": [
        "> Calculating Variance."
      ]
    },
    {
      "cell_type": "code",
      "metadata": {
        "id": "ii-PM5C9uFp2",
        "colab_type": "code",
        "colab": {}
      },
      "source": [
        "temp6 = np.zeros([its, len(x)])\n",
        "\n",
        "for i in range(its):\n",
        "  temp6[i] = np.square( h[i] - E_h )\n",
        "\n",
        "var = np.mean(temp6, axis=0)"
      ],
      "execution_count": 0,
      "outputs": []
    },
    {
      "cell_type": "markdown",
      "metadata": {
        "id": "5xSIqv06wPko",
        "colab_type": "text"
      },
      "source": [
        "> Error using expression : MSE = Bias^2 + variance"
      ]
    },
    {
      "cell_type": "code",
      "metadata": {
        "id": "gim2Nf_pwYet",
        "colab_type": "code",
        "colab": {}
      },
      "source": [
        "error = np.square(bias) + var"
      ],
      "execution_count": 0,
      "outputs": []
    },
    {
      "cell_type": "markdown",
      "metadata": {
        "colab_type": "text",
        "id": "Voz33FslxoxB"
      },
      "source": [
        "**####################################################################**"
      ]
    },
    {
      "cell_type": "markdown",
      "metadata": {
        "colab_type": "text",
        "id": "yZLKiEXbxoxE"
      },
      "source": [
        "**Question 2 -** Complex hypothesis model : h(θ) = θ₀ + θ₁•x + θ₂•x² + ... θ₂₀•x²⁰ ."
      ]
    },
    {
      "cell_type": "markdown",
      "metadata": {
        "colab_type": "text",
        "id": "5H-n-wfvxoxE"
      },
      "source": [
        "> Calculating h(θ)."
      ]
    },
    {
      "cell_type": "code",
      "metadata": {
        "colab_type": "code",
        "id": "gkhmETjXxoxF",
        "colab": {}
      },
      "source": [
        "theta2 = np.zeros([its, 21])\n",
        "\n",
        "temp7 = np.ones((len(x),1))\n",
        "X2 = np.c_[temp7, x, np.power(x,2), np.power(x,3), np.power(x,4), np.power(x,5), np.power(x,6), np.power(x,7), np.power(x,8), np.power(x,9), np.power(x,10), np.power(x,11), np.power(x,12), np.power(x,13), np.power(x,14), np.power(x,15), np.power(x,16), np.power(x,17), np.power(x,18), np.power(x,19), np.power(x,20)]\n",
        "Xtx2=np.matmul(X2.T,X2)\n",
        "Xtx_inv2=np.linalg.inv(Xtx2)\n",
        "temp8 = np.matmul(Xtx_inv2, X2.T)\n",
        "\n",
        "for i in range(its):\n",
        "  theta2[i] = np.matmul(temp8, f[i])\n",
        "\n",
        "h2 = np.zeros([its, len(x)])\n",
        "\n",
        "for i in range(its):\n",
        "  sum = np.zeros([1,len(x)])\n",
        "\n",
        "  for j in range(21):\n",
        "    sum = sum + theta2[i][j]*np.power(x,j)\n",
        "\n",
        "  h2[i] = sum   #--------------------------------> h(theta)"
      ],
      "execution_count": 0,
      "outputs": []
    },
    {
      "cell_type": "markdown",
      "metadata": {
        "colab_type": "text",
        "id": "dfbLCSUoxoxK"
      },
      "source": [
        "> Calculating expectation (i.e. mean)."
      ]
    },
    {
      "cell_type": "code",
      "metadata": {
        "colab_type": "code",
        "id": "GSMczVjzxoxL",
        "colab": {}
      },
      "source": [
        "E_h2 = np.mean(h2, axis=0)   # expectation(h)"
      ],
      "execution_count": 0,
      "outputs": []
    },
    {
      "cell_type": "markdown",
      "metadata": {
        "colab_type": "text",
        "id": "9f6CqgMXxoxU"
      },
      "source": [
        "> Calculating the mean squared error."
      ]
    },
    {
      "cell_type": "code",
      "metadata": {
        "colab_type": "code",
        "id": "7rjafVEDxoxV",
        "colab": {}
      },
      "source": [
        "err2 = np.zeros([its, len(x)])\n",
        "\n",
        "for i in range(its):\n",
        "  err2[i] = h2[i] - f0\n",
        "\n",
        "temp9 = np.square(err2)\n",
        "mse2 = np.mean(temp9, axis=0)"
      ],
      "execution_count": 0,
      "outputs": []
    },
    {
      "cell_type": "markdown",
      "metadata": {
        "colab_type": "text",
        "id": "ZErqTsRzxoxX"
      },
      "source": [
        "> Calculating Bias."
      ]
    },
    {
      "cell_type": "code",
      "metadata": {
        "colab_type": "code",
        "id": "jWEN1XIrxoxX",
        "colab": {}
      },
      "source": [
        "bias2 = E_h2 - f0"
      ],
      "execution_count": 0,
      "outputs": []
    },
    {
      "cell_type": "markdown",
      "metadata": {
        "colab_type": "text",
        "id": "nl8_WuAPxoxZ"
      },
      "source": [
        "> Calculating Variance."
      ]
    },
    {
      "cell_type": "code",
      "metadata": {
        "colab_type": "code",
        "id": "09F5jAYAxoxa",
        "colab": {}
      },
      "source": [
        "temp10 = np.zeros([its, len(x)])\n",
        "\n",
        "for i in range(its):\n",
        "  temp10[i] = np.square( h2[i] - E_h2 )\n",
        "\n",
        "var2 = np.mean(temp10, axis=0)"
      ],
      "execution_count": 0,
      "outputs": []
    },
    {
      "cell_type": "markdown",
      "metadata": {
        "colab_type": "text",
        "id": "RaI9i-xuxoxd"
      },
      "source": [
        "> Error using expression : MSE = Bias^2 + variance"
      ]
    },
    {
      "cell_type": "code",
      "metadata": {
        "colab_type": "code",
        "id": "pYevzeidxoxd",
        "colab": {}
      },
      "source": [
        "error2 = np.square(bias2) + var2"
      ],
      "execution_count": 0,
      "outputs": []
    },
    {
      "cell_type": "markdown",
      "metadata": {
        "colab_type": "text",
        "id": "n_3qyFjvfoWk"
      },
      "source": [
        "**####################################################################**"
      ]
    },
    {
      "cell_type": "markdown",
      "metadata": {
        "colab_type": "text",
        "id": "E0B8nE7KfoWv"
      },
      "source": [
        "**Question 3 -** Plot true function and its expectation and find the difference between MSE got by estimation vs bias and variance in order to verify the equation : MSE = (bias)^2 + variance."
      ]
    },
    {
      "cell_type": "markdown",
      "metadata": {
        "colab_type": "text",
        "id": "UUP789Rvgxof"
      },
      "source": [
        "> Linear hypothesis model : h(θ) = θ₀ + θ₁•x ."
      ]
    },
    {
      "cell_type": "markdown",
      "metadata": {
        "id": "nrGB1n00mYNu",
        "colab_type": "text"
      },
      "source": [
        "> Plotting the true function along with its expectation i.e. its mean."
      ]
    },
    {
      "cell_type": "code",
      "metadata": {
        "id": "1o1mCV3Ermnf",
        "colab_type": "code",
        "outputId": "bec1a9e7-04e3-45a5-caa4-cc39e146b6ce",
        "colab": {
          "base_uri": "https://localhost:8080/",
          "height": 265
        }
      },
      "source": [
        "plt.plot(f0, x, linewidth=2, color='red')\n",
        "plt.plot(E_h, x, linewidth=2, color='blue')\n",
        "plt.show()"
      ],
      "execution_count": 59,
      "outputs": [
        {
          "output_type": "display_data",
          "data": {
            "image/png": "[encoded data removed]",
            "text/plain": [
              "<Figure size 432x288 with 1 Axes>"
            ]
          },
          "metadata": {
            "tags": []
          }
        }
      ]
    },
    {
      "cell_type": "markdown",
      "metadata": {
        "id": "hNoGjyfWwgrT",
        "colab_type": "text"
      },
      "source": [
        "> Difference between MSE obtained by hypotheis and error obtained by bias and variance."
      ]
    },
    {
      "cell_type": "code",
      "metadata": {
        "id": "V77bCCGnwrhT",
        "colab_type": "code",
        "outputId": "aa936e86-03ed-4d32-90c8-dd8724159561",
        "colab": {
          "base_uri": "https://localhost:8080/",
          "height": 84
        }
      },
      "source": [
        "diff = error - mse\n",
        "diff = np.mean(diff)\n",
        "\n",
        "print('Difference =', diff)\n",
        "print()\n",
        "print('This difference is due to the noise we added. Also, it is pretty negligible.')\n",
        "print('So, the equation MSE = (bias)\\N{SUPERSCRIPT TWO} + variance can be verified.')"
      ],
      "execution_count": 60,
      "outputs": [
        {
          "output_type": "stream",
          "text": [
            "Difference = -3.798157101331245e-15\n",
            "\n",
            "This difference is due to the noise we added. Also, it is pretty negligible.\n",
            "So, the equation MSE = (bias)² + variance can be verified.\n"
          ],
          "name": "stdout"
        }
      ]
    },
    {
      "cell_type": "markdown",
      "metadata": {
        "id": "yg4JZ7mgpAbC",
        "colab_type": "text"
      },
      "source": [
        "**-------------------------------------------------------------------------------------------**"
      ]
    },
    {
      "cell_type": "markdown",
      "metadata": {
        "colab_type": "text",
        "id": "czA8fzAZfpgm"
      },
      "source": [
        "> Complex hypothesis model : h(θ) = θ₀ + θ₁•x + θ₂•x² + ... θ₂₀•x²⁰ ."
      ]
    },
    {
      "cell_type": "markdown",
      "metadata": {
        "colab_type": "text",
        "id": "0N6Stxe9xoxP"
      },
      "source": [
        ">> Plotting the true function along with its expectation i.e. its mean."
      ]
    },
    {
      "cell_type": "code",
      "metadata": {
        "colab_type": "code",
        "outputId": "789ec0ae-20d7-49e6-bb57-0ef3ccf2a841",
        "id": "0MbUg6pnxoxR",
        "colab": {
          "base_uri": "https://localhost:8080/",
          "height": 265
        }
      },
      "source": [
        "plt.plot(f0, x, linewidth=2, color='red')\n",
        "plt.plot(E_h2, x, linewidth=2, color='blue')\n",
        "plt.show()"
      ],
      "execution_count": 61,
      "outputs": [
        {
          "output_type": "display_data",
          "data": {
            "image/png": "[encoded data removed]",
            "text/plain": [
              "<Figure size 432x288 with 1 Axes>"
            ]
          },
          "metadata": {
            "tags": []
          }
        }
      ]
    },
    {
      "cell_type": "markdown",
      "metadata": {
        "colab_type": "text",
        "id": "OEHJD5Lvxoxf"
      },
      "source": [
        ">> Difference between MSE obtained by hypotheis and error obtained by bias and variance."
      ]
    },
    {
      "cell_type": "code",
      "metadata": {
        "colab_type": "code",
        "outputId": "c8e7f086-ff9a-4250-a469-74b5a87e2f17",
        "id": "CabFDSShxoxg",
        "colab": {
          "base_uri": "https://localhost:8080/",
          "height": 84
        }
      },
      "source": [
        "diff2 = error2 - mse2\n",
        "diff2 = np.mean(diff2)\n",
        "\n",
        "print('Difference =', diff2)\n",
        "print()\n",
        "print('This difference is due to the noise we added. Also, it is pretty negligible.')\n",
        "print('So, the equation MSE = (bias)\\N{SUPERSCRIPT TWO} + variance can be verified.')"
      ],
      "execution_count": 62,
      "outputs": [
        {
          "output_type": "stream",
          "text": [
            "Difference = 1.6616943349090363e-10\n",
            "\n",
            "This difference is due to the noise we added. Also, it is pretty negligible.\n",
            "So, the equation MSE = (bias)² + variance can be verified.\n"
          ],
          "name": "stdout"
        }
      ]
    },
    {
      "cell_type": "markdown",
      "metadata": {
        "id": "K3dnGGM04J7K",
        "colab_type": "text"
      },
      "source": [
        "**---------------------- END OF CODE ----------------------**"
      ]
    }
  ]
}