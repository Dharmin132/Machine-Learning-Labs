{
  "nbformat": 4,
  "nbformat_minor": 0,
  "metadata": {
    "colab": {
      "name": "Lab 2.ipynb",
      "provenance": [],
      "collapsed_sections": []
    },
    "kernelspec": {
      "name": "python3",
      "display_name": "Python 3"
    }
  },
  "cells": [
    {
      "cell_type": "markdown",
      "metadata": {
        "id": "sJOM2upRRL7n",
        "colab_type": "text"
      },
      "source": [
        "**Author : Dharmin Solanki (ID : 201701198)**"
      ]
    },
    {
      "cell_type": "markdown",
      "metadata": {
        "id": "yXd0HQ9RauEE",
        "colab_type": "text"
      },
      "source": [
        "Mounting the Google Drive."
      ]
    },
    {
      "cell_type": "code",
      "metadata": {
        "id": "pEi0vTH3ZAHW",
        "colab_type": "code",
        "colab": {},
        "cellView": "both"
      },
      "source": [
        "from google.colab import drive\n",
        "drive.mount('/content/drive/')"
      ],
      "execution_count": 0,
      "outputs": []
    },
    {
      "cell_type": "markdown",
      "metadata": {
        "id": "BmjOEmOga0AV",
        "colab_type": "text"
      },
      "source": [
        "Importing Libraries"
      ]
    },
    {
      "cell_type": "code",
      "metadata": {
        "id": "tBORpo6KiYwM",
        "colab_type": "code",
        "colab": {}
      },
      "source": [
        "from sympy import *\n",
        "import matplotlib.pyplot as plt\n",
        "import pandas as pd\n",
        "import numpy as np\n",
        "from mpl_toolkits.mplot3d import Axes3D\n",
        "import random"
      ],
      "execution_count": 0,
      "outputs": []
    },
    {
      "cell_type": "markdown",
      "metadata": {
        "id": "Rm1_TGS83jzC",
        "colab_type": "text"
      },
      "source": [
        "Loading the Data from file and normalizing it."
      ]
    },
    {
      "cell_type": "code",
      "metadata": {
        "id": "x2zC6kW53nuK",
        "colab_type": "code",
        "colab": {}
      },
      "source": [
        "df = pd.read_excel('/content/drive/My Drive/IE406- ML- Labs/Lab 2/DataForProblem2.xlsx')\n",
        "\n",
        "x = np.array(df['x'])\n",
        "y = np.array(df['y'])\n",
        "\n",
        "x =x- np.mean(x)\n",
        "x =x/np.std(x)"
      ],
      "execution_count": 0,
      "outputs": []
    },
    {
      "cell_type": "markdown",
      "metadata": {
        "id": "L8KTYPszl-99",
        "colab_type": "text"
      },
      "source": [
        "Some Declaration for **number of iterations** and value of **the learning rate**:"
      ]
    },
    {
      "cell_type": "code",
      "metadata": {
        "id": "vONT9XvjmF_v",
        "colab_type": "code",
        "colab": {}
      },
      "source": [
        "n1=1000 #number of iterations for gradient descent and stochastic descent\n",
        "n2=100  #number of iterations for gradient descent and stochastic descent\n",
        "n3=5    #number of iterations for steepest gradient descent. However, this will take time to compute.\n",
        "n4=10   #number of iterations for steepest gradient descent. However, this will take time to compute.\n",
        "a1=0.1  #learning rate\n",
        "a2=0.01 #learning rate"
      ],
      "execution_count": 0,
      "outputs": []
    },
    {
      "cell_type": "markdown",
      "metadata": {
        "id": "_bEJRmh5nWu2",
        "colab_type": "text"
      },
      "source": [
        "**############################################################################################**"
      ]
    },
    {
      "cell_type": "markdown",
      "metadata": {
        "id": "xjQpfJz2bAbI",
        "colab_type": "text"
      },
      "source": [
        "**Question-1 : Find minima of following functions using Gradient Descent Approach where α₁ = 0.1 and α₂ = 0.01.**"
      ]
    },
    {
      "cell_type": "markdown",
      "metadata": {
        "id": "vh7WJKwbb4mQ",
        "colab_type": "text"
      },
      "source": [
        "> Function for one parameter of the Gradient Descent Approach."
      ]
    },
    {
      "cell_type": "code",
      "metadata": {
        "id": "t8sfxjkcigEW",
        "colab_type": "code",
        "colab": {}
      },
      "source": [
        "def gradient_one(L,n,a):\n",
        "  \n",
        "  theta0 = Symbol('theta0')\n",
        "  val = 8\n",
        "  L_final = [0]*n\n",
        "\n",
        "  dL = diff(L,theta0)\n",
        "\n",
        "  iterations = np.arange(0,n,1)\n",
        "\n",
        "  for i in range(n):\n",
        "    temp = val - a*(dL.subs(theta0,val))\n",
        "    val = temp\n",
        "    L_final[i]= L.subs(theta0,val)\n",
        "\n",
        "  return iterations, L_final, val"
      ],
      "execution_count": 0,
      "outputs": []
    },
    {
      "cell_type": "markdown",
      "metadata": {
        "id": "9E4ETkgIZTJJ",
        "colab_type": "text"
      },
      "source": [
        "> Function for two parameters of the Gradient Descent Approach."
      ]
    },
    {
      "cell_type": "code",
      "metadata": {
        "id": "cPKbXUnnakxP",
        "colab_type": "code",
        "colab": {}
      },
      "source": [
        " def gradient_two(L,n,a):\n",
        "  \n",
        "  theta0 = Symbol('theta0')\n",
        "  theta1 = Symbol('theta1')\n",
        "\n",
        "  val0 = 7\n",
        "  val1 = 3\n",
        "  L_final = [0]*n\n",
        "\n",
        "  dL0 = diff(L,theta0)\n",
        "  dL1 = diff(L,theta1)\n",
        "\n",
        "  iterations = np.arange(0,n,1)\n",
        "\n",
        "  for i in range(n):\n",
        "    temp0 = val0 - a*( dL0.subs( {theta0: val0, theta1: val1} ) )\n",
        "    val0 = temp0\n",
        "    temp1 = val1 - a*( dL1.subs( {theta0: val0, theta1: val1} ) )\n",
        "    val1 = temp1\n",
        "    L_final[i]= L.subs( {theta0: val0, theta1: val1} )\n",
        "\n",
        "  return iterations, L_final, val0, val1"
      ],
      "execution_count": 0,
      "outputs": []
    },
    {
      "cell_type": "markdown",
      "metadata": {
        "id": "c3tVy3K5uRqC",
        "colab_type": "text"
      },
      "source": [
        "**-------------------------------------------------------------------------------------------**"
      ]
    },
    {
      "cell_type": "markdown",
      "metadata": {
        "id": "F6IWrhDkaS1H",
        "colab_type": "text"
      },
      "source": [
        ">>**A)** L(θ) = θ²"
      ]
    },
    {
      "cell_type": "markdown",
      "metadata": {
        "id": "UTYQ9XHTTAOA",
        "colab_type": "text"
      },
      "source": [
        ">>> (i) N=1000, α=0.1"
      ]
    },
    {
      "cell_type": "code",
      "metadata": {
        "id": "UqcQkWp2tHNc",
        "colab_type": "code",
        "colab": {}
      },
      "source": [
        "theta0=Symbol('theta0')\n",
        "\n",
        "L = theta0**2\n",
        "\n",
        "iterations, L_final, val = gradient_one(L,n1,a1)\n",
        "\n",
        "plt.plot(iterations, L_final)\n",
        "plt.xlabel('N = 1000')\n",
        "plt.ylabel('L(\\N{GREEK SMALL LETTER THETA}) = \\N{GREEK SMALL LETTER THETA}\\N{SUPERSCRIPT TWO}')\n",
        "plt.title('\\N{GREEK SMALL LETTER ALPHA} = 0.1')\n",
        "plt.show()\n",
        "\n",
        "print()\n",
        "print('Minimum \\N{GREEK SMALL LETTER THETA}    ----->   \\N{GREEK SMALL LETTER THETA}\\N{SUBSCRIPT ZERO}  =', val)\n",
        "print('Minimum L(\\N{GREEK SMALL LETTER THETA}) -----> L(\\N{GREEK SMALL LETTER THETA}\\N{SUBSCRIPT ZERO}) =', min(L_final))"
      ],
      "execution_count": 0,
      "outputs": []
    },
    {
      "cell_type": "markdown",
      "metadata": {
        "id": "fXtyW6L2St0p",
        "colab_type": "text"
      },
      "source": [
        ">>> (ii) N=1000, α=0.01"
      ]
    },
    {
      "cell_type": "code",
      "metadata": {
        "id": "aJcU4fNwTRMO",
        "colab_type": "code",
        "colab": {}
      },
      "source": [
        "theta0=Symbol('theta0')\n",
        "\n",
        "L = theta0**2\n",
        "\n",
        "iterations, L_final, val = gradient_one(L,n1,a2)\n",
        "\n",
        "plt.plot(iterations, L_final)\n",
        "plt.xlabel('N = 1000')\n",
        "plt.ylabel('L(\\N{GREEK SMALL LETTER THETA}) = \\N{GREEK SMALL LETTER THETA}\\N{SUPERSCRIPT TWO}')\n",
        "plt.title('\\N{GREEK SMALL LETTER ALPHA} = 0.01')\n",
        "plt.show()\n",
        "\n",
        "print()\n",
        "print('Minimum \\N{GREEK SMALL LETTER THETA}    ----->   \\N{GREEK SMALL LETTER THETA}\\N{SUBSCRIPT ZERO}  =', val)\n",
        "print('Minimum L(\\N{GREEK SMALL LETTER THETA}) -----> L(\\N{GREEK SMALL LETTER THETA}\\N{SUBSCRIPT ZERO}) =', min(L_final))"
      ],
      "execution_count": 0,
      "outputs": []
    },
    {
      "cell_type": "markdown",
      "metadata": {
        "id": "SiP0S1U9TKe1",
        "colab_type": "text"
      },
      "source": [
        ">>> (iii) N=100, α=0.1"
      ]
    },
    {
      "cell_type": "code",
      "metadata": {
        "id": "1gT1Lu55ThrL",
        "colab_type": "code",
        "colab": {}
      },
      "source": [
        "theta0=Symbol('theta0')\n",
        "\n",
        "L = theta0**2\n",
        "\n",
        "iterations, L_final, val = gradient_one(L,n2,a1)\n",
        "\n",
        "plt.plot(iterations, L_final)\n",
        "plt.xlabel('N = 100')\n",
        "plt.ylabel('L(\\N{GREEK SMALL LETTER THETA}) = \\N{GREEK SMALL LETTER THETA}\\N{SUPERSCRIPT TWO}')\n",
        "plt.title('\\N{GREEK SMALL LETTER ALPHA} = 0.1')\n",
        "plt.show()\n",
        "\n",
        "print()\n",
        "print('Minimum \\N{GREEK SMALL LETTER THETA}    ----->   \\N{GREEK SMALL LETTER THETA}\\N{SUBSCRIPT ZERO}  =', val)\n",
        "print('Minimum L(\\N{GREEK SMALL LETTER THETA}) -----> L(\\N{GREEK SMALL LETTER THETA}\\N{SUBSCRIPT ZERO}) =', min(L_final))"
      ],
      "execution_count": 0,
      "outputs": []
    },
    {
      "cell_type": "markdown",
      "metadata": {
        "id": "TXJOq_wiTMbQ",
        "colab_type": "text"
      },
      "source": [
        ">>> (iv) N=100, α=0.01"
      ]
    },
    {
      "cell_type": "code",
      "metadata": {
        "id": "g5CrrmQPT1rC",
        "colab_type": "code",
        "colab": {}
      },
      "source": [
        "theta0=Symbol('theta0')\n",
        "\n",
        "L = theta0**2\n",
        "\n",
        "iterations, L_final, val = gradient_one(L,n2,a2)\n",
        "\n",
        "plt.plot(iterations, L_final)\n",
        "plt.xlabel('N = 100')\n",
        "plt.ylabel('L(\\N{GREEK SMALL LETTER THETA}) = \\N{GREEK SMALL LETTER THETA}\\N{SUPERSCRIPT TWO}')\n",
        "plt.title('\\N{GREEK SMALL LETTER ALPHA} = 0.01')\n",
        "plt.show()\n",
        "\n",
        "print()\n",
        "print('Minimum \\N{GREEK SMALL LETTER THETA}    ----->   \\N{GREEK SMALL LETTER THETA}\\N{SUBSCRIPT ZERO}  =', val)\n",
        "print('Minimum L(\\N{GREEK SMALL LETTER THETA}) -----> L(\\N{GREEK SMALL LETTER THETA}\\N{SUBSCRIPT ZERO}) =', min(L_final))"
      ],
      "execution_count": 0,
      "outputs": []
    },
    {
      "cell_type": "markdown",
      "metadata": {
        "id": "C9n0XhaEuP1o",
        "colab_type": "text"
      },
      "source": [
        "**-------------------------------------------------------------------------------------------**"
      ]
    },
    {
      "cell_type": "markdown",
      "metadata": {
        "id": "k8V_ZixQVOAH",
        "colab_type": "text"
      },
      "source": [
        ">>**B)** L(θ) = θ₁² + θ₂² "
      ]
    },
    {
      "cell_type": "markdown",
      "metadata": {
        "id": "N5Lx2oreVSn_",
        "colab_type": "text"
      },
      "source": [
        ">>> (i) N=1000, α=0.1"
      ]
    },
    {
      "cell_type": "code",
      "metadata": {
        "id": "LuaSZ5dtVkTt",
        "colab_type": "code",
        "colab": {}
      },
      "source": [
        "theta1=Symbol('theta0')\n",
        "theta2=Symbol('theta1')\n",
        "\n",
        "L = theta1**2 + theta2**2\n",
        "\n",
        "iterations, L_final, val0, val1 = gradient_two(L,n1,a1)\n",
        "\n",
        "plt.plot(iterations, L_final)\n",
        "plt.xlabel('N = 1000')\n",
        "plt.ylabel('L(\\N{GREEK SMALL LETTER THETA}) = \\N{GREEK SMALL LETTER THETA}\\N{SUBSCRIPT ONE}\\N{SUPERSCRIPT TWO} + \\N{GREEK SMALL LETTER THETA}\\N{SUBSCRIPT TWO}\\N{SUPERSCRIPT TWO}')\n",
        "plt.title('\\N{GREEK SMALL LETTER ALPHA} = 0.1')\n",
        "plt.show()\n",
        "\n",
        "print()\n",
        "print('Minimum \\N{GREEK SMALL LETTER THETA}\\N{SUBSCRIPT ONE}    ----->       \\N{GREEK SMALL LETTER THETA}\\N{SUBSCRIPT ONE}  =', val0)\n",
        "print('Minimum \\N{GREEK SMALL LETTER THETA}\\N{SUBSCRIPT TWO}    ----->       \\N{GREEK SMALL LETTER THETA}\\N{SUBSCRIPT TWO}  =', val1)\n",
        "print('Minimum L(\\N{GREEK SMALL LETTER THETA})  -----> L(\\N{GREEK SMALL LETTER THETA}\\N{SUBSCRIPT ONE}, \\N{GREEK SMALL LETTER THETA}\\N{SUBSCRIPT TWO}) =', min(L_final))"
      ],
      "execution_count": 0,
      "outputs": []
    },
    {
      "cell_type": "markdown",
      "metadata": {
        "id": "PKs2X3sxVZTh",
        "colab_type": "text"
      },
      "source": [
        ">>> (ii) N=1000, α=0.01"
      ]
    },
    {
      "cell_type": "code",
      "metadata": {
        "id": "WY2wydUMYzq-",
        "colab_type": "code",
        "colab": {}
      },
      "source": [
        "theta1=Symbol('theta0')\n",
        "theta2=Symbol('theta1')\n",
        "\n",
        "L = theta1**2 + theta2**2\n",
        "\n",
        "iterations, L_final, val0, val1 = gradient_two(L,n1,a2)\n",
        "\n",
        "plt.plot(iterations, L_final)\n",
        "plt.xlabel('N = 1000')\n",
        "plt.ylabel('L(\\N{GREEK SMALL LETTER THETA}) = \\N{GREEK SMALL LETTER THETA}\\N{SUBSCRIPT ONE}\\N{SUPERSCRIPT TWO} + \\N{GREEK SMALL LETTER THETA}\\N{SUBSCRIPT TWO}\\N{SUPERSCRIPT TWO}')\n",
        "plt.title('\\N{GREEK SMALL LETTER ALPHA} = 0.01')\n",
        "plt.show()\n",
        "\n",
        "print()\n",
        "print('Minimum \\N{GREEK SMALL LETTER THETA}\\N{SUBSCRIPT ONE}    ----->       \\N{GREEK SMALL LETTER THETA}\\N{SUBSCRIPT ONE}  =', val0)\n",
        "print('Minimum \\N{GREEK SMALL LETTER THETA}\\N{SUBSCRIPT TWO}    ----->       \\N{GREEK SMALL LETTER THETA}\\N{SUBSCRIPT TWO}  =', val1)\n",
        "print('Minimum L(\\N{GREEK SMALL LETTER THETA})  -----> L(\\N{GREEK SMALL LETTER THETA}\\N{SUBSCRIPT ONE}, \\N{GREEK SMALL LETTER THETA}\\N{SUBSCRIPT TWO}) =', min(L_final))"
      ],
      "execution_count": 0,
      "outputs": []
    },
    {
      "cell_type": "markdown",
      "metadata": {
        "id": "J4NsYVn6VdKB",
        "colab_type": "text"
      },
      "source": [
        ">>> (iii) N=100, α=0.1"
      ]
    },
    {
      "cell_type": "code",
      "metadata": {
        "id": "OB-DFV_yY78M",
        "colab_type": "code",
        "colab": {}
      },
      "source": [
        "theta1=Symbol('theta0')\n",
        "theta2=Symbol('theta1')\n",
        "\n",
        "L = theta1**2 + theta2**2\n",
        "\n",
        "iterations, L_final, val0, val1 = gradient_two(L,n2,a1)\n",
        "\n",
        "plt.plot(iterations, L_final)\n",
        "plt.xlabel('N = 100')\n",
        "plt.ylabel('L(\\N{GREEK SMALL LETTER THETA}) = \\N{GREEK SMALL LETTER THETA}\\N{SUBSCRIPT ONE}\\N{SUPERSCRIPT TWO} + \\N{GREEK SMALL LETTER THETA}\\N{SUBSCRIPT TWO}\\N{SUPERSCRIPT TWO}')\n",
        "plt.title('\\N{GREEK SMALL LETTER ALPHA} = 0.1')\n",
        "plt.show()\n",
        "\n",
        "print()\n",
        "print('Minimum \\N{GREEK SMALL LETTER THETA}\\N{SUBSCRIPT ONE}    ----->       \\N{GREEK SMALL LETTER THETA}\\N{SUBSCRIPT ONE}  =', val0)\n",
        "print('Minimum \\N{GREEK SMALL LETTER THETA}\\N{SUBSCRIPT TWO}    ----->       \\N{GREEK SMALL LETTER THETA}\\N{SUBSCRIPT TWO}  =', val1)\n",
        "print('Minimum L(\\N{GREEK SMALL LETTER THETA})  -----> L(\\N{GREEK SMALL LETTER THETA}\\N{SUBSCRIPT ONE}, \\N{GREEK SMALL LETTER THETA}\\N{SUBSCRIPT TWO}) =', min(L_final))"
      ],
      "execution_count": 0,
      "outputs": []
    },
    {
      "cell_type": "markdown",
      "metadata": {
        "id": "6EaikVynVewW",
        "colab_type": "text"
      },
      "source": [
        ">>> (iv) N=100, α=0.01"
      ]
    },
    {
      "cell_type": "code",
      "metadata": {
        "id": "aeeOHVuGbWTW",
        "colab_type": "code",
        "colab": {}
      },
      "source": [
        "theta1=Symbol('theta0')\n",
        "theta2=Symbol('theta1')\n",
        "\n",
        "L = theta1**2 + theta2**2\n",
        "\n",
        "iterations, L_final, val0, val1 = gradient_two(L,n2,a2)\n",
        "\n",
        "plt.plot(iterations, L_final)\n",
        "plt.xlabel('N = 100')\n",
        "plt.ylabel('L(\\N{GREEK SMALL LETTER THETA}) = \\N{GREEK SMALL LETTER THETA}\\N{SUBSCRIPT ONE}\\N{SUPERSCRIPT TWO} + \\N{GREEK SMALL LETTER THETA}\\N{SUBSCRIPT TWO}\\N{SUPERSCRIPT TWO}')\n",
        "plt.title('\\N{GREEK SMALL LETTER ALPHA} = 0.01')\n",
        "plt.show()\n",
        "\n",
        "print()\n",
        "print('Minimum \\N{GREEK SMALL LETTER THETA}\\N{SUBSCRIPT ONE}    ----->       \\N{GREEK SMALL LETTER THETA}\\N{SUBSCRIPT ONE}  =', val0)\n",
        "print('Minimum \\N{GREEK SMALL LETTER THETA}\\N{SUBSCRIPT TWO}    ----->       \\N{GREEK SMALL LETTER THETA}\\N{SUBSCRIPT TWO}  =', val1)\n",
        "print('Minimum L(\\N{GREEK SMALL LETTER THETA})  -----> L(\\N{GREEK SMALL LETTER THETA}\\N{SUBSCRIPT ONE}, \\N{GREEK SMALL LETTER THETA}\\N{SUBSCRIPT TWO}) =', min(L_final))"
      ],
      "execution_count": 0,
      "outputs": []
    },
    {
      "cell_type": "markdown",
      "metadata": {
        "id": "vC_W_zDZuOaN",
        "colab_type": "text"
      },
      "source": [
        "**-------------------------------------------------------------------------------------------**"
      ]
    },
    {
      "cell_type": "markdown",
      "metadata": {
        "id": "MVY7A2z9t9Qz",
        "colab_type": "text"
      },
      "source": [
        ">>**C)** L(θ) = (θ-1)²"
      ]
    },
    {
      "cell_type": "markdown",
      "metadata": {
        "id": "7h3lV8vQvPaM",
        "colab_type": "text"
      },
      "source": [
        ">>> (i) N=1000, α=0.1"
      ]
    },
    {
      "cell_type": "code",
      "metadata": {
        "id": "d9nZjYAcvXcT",
        "colab_type": "code",
        "colab": {}
      },
      "source": [
        "theta0=Symbol('theta0')\n",
        "\n",
        "L = (theta0-1)**2\n",
        "\n",
        "iterations, L_final, val = gradient_one(L,n1,a1)\n",
        "\n",
        "plt.plot(iterations, L_final)\n",
        "plt.xlabel('N = 1000')\n",
        "plt.ylabel('L(\\N{GREEK SMALL LETTER THETA}) = (\\N{GREEK SMALL LETTER THETA}-1)\\N{SUPERSCRIPT TWO}')\n",
        "plt.title('\\N{GREEK SMALL LETTER ALPHA} = 0.1')\n",
        "plt.show()\n",
        "\n",
        "print()\n",
        "print('Minimum \\N{GREEK SMALL LETTER THETA}    ----->   \\N{GREEK SMALL LETTER THETA}\\N{SUBSCRIPT ZERO}  =', val)\n",
        "print('Minimum L(\\N{GREEK SMALL LETTER THETA}) -----> L(\\N{GREEK SMALL LETTER THETA}\\N{SUBSCRIPT ZERO}) =', min(L_final))"
      ],
      "execution_count": 0,
      "outputs": []
    },
    {
      "cell_type": "markdown",
      "metadata": {
        "id": "R2ReykLFvQxA",
        "colab_type": "text"
      },
      "source": [
        ">>> (ii) N=1000, α=0.01"
      ]
    },
    {
      "cell_type": "code",
      "metadata": {
        "id": "qQcrXRjFv4K9",
        "colab_type": "code",
        "colab": {}
      },
      "source": [
        "theta0=Symbol('theta0')\n",
        "\n",
        "L = (theta0-1)**2\n",
        "\n",
        "iterations, L_final, val = gradient_one(L,n1,a2)\n",
        "\n",
        "plt.plot(iterations, L_final)\n",
        "plt.xlabel('N = 1000')\n",
        "plt.ylabel('L(\\N{GREEK SMALL LETTER THETA}) = (\\N{GREEK SMALL LETTER THETA}-1)\\N{SUPERSCRIPT TWO}')\n",
        "plt.title('\\N{GREEK SMALL LETTER ALPHA} = 0.01')\n",
        "plt.show()\n",
        "\n",
        "print()\n",
        "print('Minimum \\N{GREEK SMALL LETTER THETA}    ----->   \\N{GREEK SMALL LETTER THETA}\\N{SUBSCRIPT ZERO}  =', val)\n",
        "print('Minimum L(\\N{GREEK SMALL LETTER THETA}) -----> L(\\N{GREEK SMALL LETTER THETA}\\N{SUBSCRIPT ZERO}) =', min(L_final))"
      ],
      "execution_count": 0,
      "outputs": []
    },
    {
      "cell_type": "markdown",
      "metadata": {
        "id": "zxqm2MjxvSzM",
        "colab_type": "text"
      },
      "source": [
        ">>> (iii) N=100, α=0.1"
      ]
    },
    {
      "cell_type": "code",
      "metadata": {
        "id": "1ffRVSK7v_Qr",
        "colab_type": "code",
        "colab": {}
      },
      "source": [
        "theta0=Symbol('theta0')\n",
        "\n",
        "L = (theta0-1)**2\n",
        "\n",
        "iterations, L_final, val = gradient_one(L,n2,a1)\n",
        "\n",
        "plt.plot(iterations, L_final)\n",
        "plt.xlabel('N = 100')\n",
        "plt.ylabel('L(\\N{GREEK SMALL LETTER THETA}) = (\\N{GREEK SMALL LETTER THETA}-1)\\N{SUPERSCRIPT TWO}')\n",
        "plt.title('\\N{GREEK SMALL LETTER ALPHA} = 0.1')\n",
        "plt.show()\n",
        "\n",
        "print()\n",
        "print('Minimum \\N{GREEK SMALL LETTER THETA}    ----->   \\N{GREEK SMALL LETTER THETA}\\N{SUBSCRIPT ZERO}  =', val)\n",
        "print('Minimum L(\\N{GREEK SMALL LETTER THETA}) -----> L(\\N{GREEK SMALL LETTER THETA}\\N{SUBSCRIPT ZERO}) =', min(L_final))"
      ],
      "execution_count": 0,
      "outputs": []
    },
    {
      "cell_type": "markdown",
      "metadata": {
        "id": "bIp-WsMivUtE",
        "colab_type": "text"
      },
      "source": [
        ">>> (iv) N=100, α=0.01"
      ]
    },
    {
      "cell_type": "code",
      "metadata": {
        "id": "0aSHrCRxt8qe",
        "colab_type": "code",
        "colab": {}
      },
      "source": [
        "theta0=Symbol('theta0')\n",
        "\n",
        "L = (theta0-1)**2\n",
        "\n",
        "iterations, L_final, val = gradient_one(L,n2,a2)\n",
        "\n",
        "plt.plot(iterations, L_final)\n",
        "plt.xlabel('N = 100')\n",
        "plt.ylabel('L(\\N{GREEK SMALL LETTER THETA}) = (\\N{GREEK SMALL LETTER THETA}-1)\\N{SUPERSCRIPT TWO}')\n",
        "plt.title('\\N{GREEK SMALL LETTER ALPHA} = 0.01')\n",
        "plt.show()\n",
        "\n",
        "print()\n",
        "print('Minimum \\N{GREEK SMALL LETTER THETA}    ----->   \\N{GREEK SMALL LETTER THETA}\\N{SUBSCRIPT ZERO}  =', val)\n",
        "print('Minimum L(\\N{GREEK SMALL LETTER THETA}) -----> L(\\N{GREEK SMALL LETTER THETA}\\N{SUBSCRIPT ZERO}) =', min(L_final))"
      ],
      "execution_count": 0,
      "outputs": []
    },
    {
      "cell_type": "markdown",
      "metadata": {
        "id": "OPGoBFneuM1P",
        "colab_type": "text"
      },
      "source": [
        "**-------------------------------------------------------------------------------------------**"
      ]
    },
    {
      "cell_type": "markdown",
      "metadata": {
        "id": "VQDcby6swU9m",
        "colab_type": "text"
      },
      "source": [
        ">>**D)** L(θ) = 2(θ₁-1)² + 2(θ₂-1)² "
      ]
    },
    {
      "cell_type": "markdown",
      "metadata": {
        "id": "6NuO570_wcEp",
        "colab_type": "text"
      },
      "source": [
        ">>> (i) N=1000, α=0.1"
      ]
    },
    {
      "cell_type": "code",
      "metadata": {
        "id": "qsqSZyphwzhZ",
        "colab_type": "code",
        "colab": {}
      },
      "source": [
        "theta1=Symbol('theta0')\n",
        "theta2=Symbol('theta1')\n",
        "\n",
        "L = 2*((theta1-1)**2 + (theta2-1)**2)\n",
        "\n",
        "iterations, L_final, val0, val1 = gradient_two(L,n1,a1)\n",
        "\n",
        "plt.plot(iterations, L_final)\n",
        "plt.xlabel('N = 1000')\n",
        "plt.ylabel('L(\\N{GREEK SMALL LETTER THETA}) = 2(\\N{GREEK SMALL LETTER THETA}\\N{SUBSCRIPT ONE}-1)\\N{SUPERSCRIPT TWO} + 2(\\N{GREEK SMALL LETTER THETA}\\N{SUBSCRIPT TWO}-1)\\N{SUPERSCRIPT TWO}')\n",
        "plt.title('\\N{GREEK SMALL LETTER ALPHA} = 0.1')\n",
        "plt.show()\n",
        "\n",
        "print()\n",
        "print('Minimum \\N{GREEK SMALL LETTER THETA}\\N{SUBSCRIPT ONE}    ----->       \\N{GREEK SMALL LETTER THETA}\\N{SUBSCRIPT ONE}  =', val0)\n",
        "print('Minimum \\N{GREEK SMALL LETTER THETA}\\N{SUBSCRIPT TWO}    ----->       \\N{GREEK SMALL LETTER THETA}\\N{SUBSCRIPT TWO}  =', val1)\n",
        "print('Minimum L(\\N{GREEK SMALL LETTER THETA})  -----> L(\\N{GREEK SMALL LETTER THETA}\\N{SUBSCRIPT ONE}, \\N{GREEK SMALL LETTER THETA}\\N{SUBSCRIPT TWO}) =', min(L_final))"
      ],
      "execution_count": 0,
      "outputs": []
    },
    {
      "cell_type": "markdown",
      "metadata": {
        "id": "YXC953uIwoW7",
        "colab_type": "text"
      },
      "source": [
        ">>> (ii) N=1000, α=0.01"
      ]
    },
    {
      "cell_type": "code",
      "metadata": {
        "id": "uLuirf4vxaky",
        "colab_type": "code",
        "colab": {}
      },
      "source": [
        "theta1=Symbol('theta0')\n",
        "theta2=Symbol('theta1')\n",
        "\n",
        "L = 2*((theta1-1)**2 + (theta2-1)**2)\n",
        "\n",
        "iterations, L_final, val0, val1 = gradient_two(L,n1,a2)\n",
        "\n",
        "plt.plot(iterations, L_final)\n",
        "plt.xlabel('N = 1000')\n",
        "plt.ylabel('L(\\N{GREEK SMALL LETTER THETA}) = 2(\\N{GREEK SMALL LETTER THETA}\\N{SUBSCRIPT ONE}-1)\\N{SUPERSCRIPT TWO} + 2(\\N{GREEK SMALL LETTER THETA}\\N{SUBSCRIPT TWO}-1)\\N{SUPERSCRIPT TWO}')\n",
        "plt.title('\\N{GREEK SMALL LETTER ALPHA} = 0.01')\n",
        "plt.show()\n",
        "\n",
        "print()\n",
        "print('Minimum \\N{GREEK SMALL LETTER THETA}\\N{SUBSCRIPT ONE}    ----->       \\N{GREEK SMALL LETTER THETA}\\N{SUBSCRIPT ONE}  =', val0)\n",
        "print('Minimum \\N{GREEK SMALL LETTER THETA}\\N{SUBSCRIPT TWO}    ----->       \\N{GREEK SMALL LETTER THETA}\\N{SUBSCRIPT TWO}  =', val1)\n",
        "print('Minimum L(\\N{GREEK SMALL LETTER THETA})  -----> L(\\N{GREEK SMALL LETTER THETA}\\N{SUBSCRIPT ONE}, \\N{GREEK SMALL LETTER THETA}\\N{SUBSCRIPT TWO}) =', min(L_final))"
      ],
      "execution_count": 0,
      "outputs": []
    },
    {
      "cell_type": "markdown",
      "metadata": {
        "id": "jYDcZnMUwqbZ",
        "colab_type": "text"
      },
      "source": [
        ">>> (iii) N=100, α=0.1"
      ]
    },
    {
      "cell_type": "code",
      "metadata": {
        "id": "Xbsbup3cxgRB",
        "colab_type": "code",
        "colab": {}
      },
      "source": [
        "theta1=Symbol('theta0')\n",
        "theta2=Symbol('theta1')\n",
        "\n",
        "L = 2*((theta1-1)**2 + (theta2-1)**2)\n",
        "\n",
        "iterations, L_final, val0, val1 = gradient_two(L,n2,a1)\n",
        "\n",
        "plt.plot(iterations, L_final)\n",
        "plt.xlabel('N = 100')\n",
        "plt.ylabel('L(\\N{GREEK SMALL LETTER THETA}) = 2(\\N{GREEK SMALL LETTER THETA}\\N{SUBSCRIPT ONE}-1)\\N{SUPERSCRIPT TWO} + 2(\\N{GREEK SMALL LETTER THETA}\\N{SUBSCRIPT TWO}-1)\\N{SUPERSCRIPT TWO}')\n",
        "plt.title('\\N{GREEK SMALL LETTER ALPHA} = 0.1')\n",
        "plt.show()\n",
        "\n",
        "print()\n",
        "print('Minimum \\N{GREEK SMALL LETTER THETA}\\N{SUBSCRIPT ONE}    ----->       \\N{GREEK SMALL LETTER THETA}\\N{SUBSCRIPT ONE}  =', val0)\n",
        "print('Minimum \\N{GREEK SMALL LETTER THETA}\\N{SUBSCRIPT TWO}    ----->       \\N{GREEK SMALL LETTER THETA}\\N{SUBSCRIPT TWO}  =', val1)\n",
        "print('Minimum L(\\N{GREEK SMALL LETTER THETA})  -----> L(\\N{GREEK SMALL LETTER THETA}\\N{SUBSCRIPT ONE}, \\N{GREEK SMALL LETTER THETA}\\N{SUBSCRIPT TWO}) =', min(L_final))"
      ],
      "execution_count": 0,
      "outputs": []
    },
    {
      "cell_type": "markdown",
      "metadata": {
        "id": "-TechN0LwsUh",
        "colab_type": "text"
      },
      "source": [
        ">>> (iv) N=100, α=0.01"
      ]
    },
    {
      "cell_type": "code",
      "metadata": {
        "id": "Jmsnb_9sxl8R",
        "colab_type": "code",
        "colab": {}
      },
      "source": [
        "theta1=Symbol('theta0')\n",
        "theta2=Symbol('theta1')\n",
        "\n",
        "L = 2*((theta1-1)**2 + (theta2-1)**2)\n",
        "\n",
        "iterations, L_final, val0, val1 = gradient_two(L,n2,a2)\n",
        "\n",
        "plt.plot(iterations, L_final)\n",
        "plt.xlabel('N = 100')\n",
        "plt.ylabel('L(\\N{GREEK SMALL LETTER THETA}) = 2(\\N{GREEK SMALL LETTER THETA}\\N{SUBSCRIPT ONE}-1)\\N{SUPERSCRIPT TWO} + 2(\\N{GREEK SMALL LETTER THETA}\\N{SUBSCRIPT TWO}-1)\\N{SUPERSCRIPT TWO}')\n",
        "plt.title('\\N{GREEK SMALL LETTER ALPHA} = 0.01')\n",
        "plt.show()\n",
        "\n",
        "print()\n",
        "print('Minimum \\N{GREEK SMALL LETTER THETA}\\N{SUBSCRIPT ONE}    ----->       \\N{GREEK SMALL LETTER THETA}\\N{SUBSCRIPT ONE}  =', val0)\n",
        "print('Minimum \\N{GREEK SMALL LETTER THETA}\\N{SUBSCRIPT TWO}    ----->       \\N{GREEK SMALL LETTER THETA}\\N{SUBSCRIPT TWO}  =', val1)\n",
        "print('Minimum L(\\N{GREEK SMALL LETTER THETA})  -----> L(\\N{GREEK SMALL LETTER THETA}\\N{SUBSCRIPT ONE}, \\N{GREEK SMALL LETTER THETA}\\N{SUBSCRIPT TWO}) =', min(L_final))"
      ],
      "execution_count": 0,
      "outputs": []
    },
    {
      "cell_type": "markdown",
      "metadata": {
        "id": "Hmps9OFiuLQN",
        "colab_type": "text"
      },
      "source": [
        "**-------------------------------------------------------------------------------------------**"
      ]
    },
    {
      "cell_type": "markdown",
      "metadata": {
        "id": "sOJNXpo91vqU",
        "colab_type": "text"
      },
      "source": [
        ">>**E)** L(θ) = Σ [ y - (θ₀ + θ₁•x) ]² "
      ]
    },
    {
      "cell_type": "markdown",
      "metadata": {
        "id": "-kcxDAbZ3Mmj",
        "colab_type": "text"
      },
      "source": [
        ">>> (i) N=1000, α=0.1"
      ]
    },
    {
      "cell_type": "code",
      "metadata": {
        "id": "9NX6utqS4Ew1",
        "colab_type": "code",
        "colab": {}
      },
      "source": [
        "theta0=Symbol('theta0')\n",
        "theta1=Symbol('theta1')\n",
        "\n",
        "l1 = theta0 + theta1*x\n",
        "l2 = y - l1\n",
        "L = np.sum(l2**2)\n",
        "\n",
        "iterations, L_final, val0, val1 = gradient_two(L,n1,a1)\n",
        "\n",
        "plt.plot(iterations, L_final)\n",
        "plt.xlabel('N = 1000')\n",
        "plt.ylabel('L(\\N{GREEK SMALL LETTER THETA}) = \\N{GREEK CAPITAL LETTER SIGMA} [y-(\\N{GREEK SMALL LETTER THETA}\\N{SUBSCRIPT ZERO} + \\N{GREEK SMALL LETTER THETA}\\N{SUBSCRIPT ONE}•x)]\\N{SUPERSCRIPT TWO}')\n",
        "plt.title('\\N{GREEK SMALL LETTER ALPHA} = 0.1')\n",
        "plt.show()\n",
        "\n",
        "print()\n",
        "print('Minimum \\N{GREEK SMALL LETTER THETA}\\N{SUBSCRIPT ZERO}    ----->       \\N{GREEK SMALL LETTER THETA}\\N{SUBSCRIPT ONE}  =', val0)\n",
        "print('Minimum \\N{GREEK SMALL LETTER THETA}\\N{SUBSCRIPT ONE}    ----->       \\N{GREEK SMALL LETTER THETA}\\N{SUBSCRIPT TWO}  =', val1)\n",
        "print('Minimum L(\\N{GREEK SMALL LETTER THETA})  -----> L(\\N{GREEK SMALL LETTER THETA}\\N{SUBSCRIPT ONE}, \\N{GREEK SMALL LETTER THETA}\\N{SUBSCRIPT TWO}) =', min(L_final))"
      ],
      "execution_count": 0,
      "outputs": []
    },
    {
      "cell_type": "markdown",
      "metadata": {
        "id": "lRF3ZO4w3YKc",
        "colab_type": "text"
      },
      "source": [
        ">>> (ii) N=1000, α=0.01"
      ]
    },
    {
      "cell_type": "code",
      "metadata": {
        "id": "AV8iQa42r1iv",
        "colab_type": "code",
        "colab": {}
      },
      "source": [
        "theta0=Symbol('theta0')\n",
        "theta1=Symbol('theta1')\n",
        "\n",
        "l1 = theta0 + theta1*x\n",
        "l2 = y - l1\n",
        "L = np.sum(l2**2)\n",
        "\n",
        "iterations, L_final, val0, val1 = gradient_two(L,n1,a2)\n",
        "\n",
        "plt.plot(iterations, L_final)\n",
        "plt.xlabel('N = 1000')\n",
        "plt.ylabel('L(\\N{GREEK SMALL LETTER THETA}) = \\N{GREEK CAPITAL LETTER SIGMA} [y-(\\N{GREEK SMALL LETTER THETA}\\N{SUBSCRIPT ZERO} + \\N{GREEK SMALL LETTER THETA}\\N{SUBSCRIPT ONE}•x)]\\N{SUPERSCRIPT TWO}')\n",
        "plt.title('\\N{GREEK SMALL LETTER ALPHA} = 0.01')\n",
        "plt.show()\n",
        "\n",
        "print()\n",
        "print('Minimum \\N{GREEK SMALL LETTER THETA}\\N{SUBSCRIPT ZERO}    ----->       \\N{GREEK SMALL LETTER THETA}\\N{SUBSCRIPT ONE}  =', val0)\n",
        "print('Minimum \\N{GREEK SMALL LETTER THETA}\\N{SUBSCRIPT ONE}    ----->       \\N{GREEK SMALL LETTER THETA}\\N{SUBSCRIPT TWO}  =', val1)\n",
        "print('Minimum L(\\N{GREEK SMALL LETTER THETA})  -----> L(\\N{GREEK SMALL LETTER THETA}\\N{SUBSCRIPT ONE}, \\N{GREEK SMALL LETTER THETA}\\N{SUBSCRIPT TWO}) =', min(L_final))"
      ],
      "execution_count": 0,
      "outputs": []
    },
    {
      "cell_type": "markdown",
      "metadata": {
        "id": "QuGzpHOG3Zzc",
        "colab_type": "text"
      },
      "source": [
        ">>> (iii) N=100, α=0.1"
      ]
    },
    {
      "cell_type": "code",
      "metadata": {
        "id": "TKu9_2lusH76",
        "colab_type": "code",
        "colab": {}
      },
      "source": [
        "theta0=Symbol('theta0')\n",
        "theta1=Symbol('theta1')\n",
        "\n",
        "l1 = theta0 + theta1*x\n",
        "l2 = y - l1\n",
        "L = np.sum(l2**2)\n",
        "\n",
        "iterations, L_final, val0, val1 = gradient_two(L,n2,a1)\n",
        "\n",
        "plt.plot(iterations, L_final)\n",
        "plt.xlabel('N = 100')\n",
        "plt.ylabel('L(\\N{GREEK SMALL LETTER THETA}) = \\N{GREEK CAPITAL LETTER SIGMA} [y-(\\N{GREEK SMALL LETTER THETA}\\N{SUBSCRIPT ZERO} + \\N{GREEK SMALL LETTER THETA}\\N{SUBSCRIPT ONE}•x)]\\N{SUPERSCRIPT TWO}')\n",
        "plt.title('\\N{GREEK SMALL LETTER ALPHA} = 0.1')\n",
        "plt.show()\n",
        "\n",
        "print()\n",
        "print('Minimum \\N{GREEK SMALL LETTER THETA}\\N{SUBSCRIPT ZERO}    ----->       \\N{GREEK SMALL LETTER THETA}\\N{SUBSCRIPT ONE}  =', val0)\n",
        "print('Minimum \\N{GREEK SMALL LETTER THETA}\\N{SUBSCRIPT ONE}    ----->       \\N{GREEK SMALL LETTER THETA}\\N{SUBSCRIPT TWO}  =', val1)\n",
        "print('Minimum L(\\N{GREEK SMALL LETTER THETA})  -----> L(\\N{GREEK SMALL LETTER THETA}\\N{SUBSCRIPT ONE}, \\N{GREEK SMALL LETTER THETA}\\N{SUBSCRIPT TWO}) =', min(L_final))"
      ],
      "execution_count": 0,
      "outputs": []
    },
    {
      "cell_type": "markdown",
      "metadata": {
        "id": "2DGnDVfC3c4b",
        "colab_type": "text"
      },
      "source": [
        ">>> (iv) N=100, α=0.01"
      ]
    },
    {
      "cell_type": "code",
      "metadata": {
        "id": "D_b1XncRsMuU",
        "colab_type": "code",
        "colab": {}
      },
      "source": [
        "theta0=Symbol('theta0')\n",
        "theta1=Symbol('theta1')\n",
        "\n",
        "l1 = theta0 + theta1*x\n",
        "l2 = y - l1\n",
        "L = np.sum(l2**2)\n",
        "\n",
        "iterations, L_final, val0, val1 = gradient_two(L,n2,a2)\n",
        "\n",
        "plt.plot(iterations, L_final)\n",
        "plt.xlabel('N = 100')\n",
        "plt.ylabel('L(\\N{GREEK SMALL LETTER THETA}) = \\N{GREEK CAPITAL LETTER SIGMA} [y-(\\N{GREEK SMALL LETTER THETA}\\N{SUBSCRIPT ZERO} + \\N{GREEK SMALL LETTER THETA}\\N{SUBSCRIPT ONE}•x)]\\N{SUPERSCRIPT TWO}')\n",
        "plt.title('\\N{GREEK SMALL LETTER ALPHA} = 0.01')\n",
        "plt.show()\n",
        "\n",
        "print()\n",
        "print('Minimum \\N{GREEK SMALL LETTER THETA}\\N{SUBSCRIPT ZERO}    ----->       \\N{GREEK SMALL LETTER THETA}\\N{SUBSCRIPT ONE}  =', val0)\n",
        "print('Minimum \\N{GREEK SMALL LETTER THETA}\\N{SUBSCRIPT ONE}    ----->       \\N{GREEK SMALL LETTER THETA}\\N{SUBSCRIPT TWO}  =', val1)\n",
        "print('Minimum L(\\N{GREEK SMALL LETTER THETA})  -----> L(\\N{GREEK SMALL LETTER THETA}\\N{SUBSCRIPT ONE}, \\N{GREEK SMALL LETTER THETA}\\N{SUBSCRIPT TWO}) =', min(L_final))"
      ],
      "execution_count": 0,
      "outputs": []
    },
    {
      "cell_type": "markdown",
      "metadata": {
        "id": "VBUdXmCmt8Nh",
        "colab_type": "text"
      },
      "source": [
        "**############################################################################################**"
      ]
    },
    {
      "cell_type": "markdown",
      "metadata": {
        "id": "3585MOKRs8M9",
        "colab_type": "text"
      },
      "source": [
        "**Question-2 : Find minima of the function L(θ) = Σ [y-(θ₀ + θ₁•x)]² using Stochastic Descent Approach using different learning rates and number of iterations.**"
      ]
    },
    {
      "cell_type": "markdown",
      "metadata": {
        "id": "QI-bg52IytLE",
        "colab_type": "text"
      },
      "source": [
        "> Function for Stochastic Descent Approach."
      ]
    },
    {
      "cell_type": "code",
      "metadata": {
        "id": "AKKVpHh0y0We",
        "colab_type": "code",
        "colab": {}
      },
      "source": [
        " def stochastic(x,y,n,a):\n",
        "  \n",
        "  theta0 = Symbol('theta0')\n",
        "  theta1 = Symbol('theta1')\n",
        "\n",
        "  val0 = 7\n",
        "  val1 = 3\n",
        "  L_final = [0]*n\n",
        "\n",
        "  iterations = np.arange(0,n,1)\n",
        "\n",
        "  rndm_x = random.sample(range(0,len(x)), len(x))\n",
        "\n",
        "  for i in range(n):\n",
        "    t1 = i % len(x)\n",
        "    l1 = (theta0 + theta1*x[rndm_x[t1]])\n",
        "    l2 = y[rndm_x[t1]]\n",
        "    L=(l2-l1)**2\n",
        "    dL0 = diff(L,theta0)\n",
        "    dL1 = diff(L,theta1)\n",
        "    temp0 = val0 - a*( dL0.subs( {theta0: val0, theta1: val1} ) )\n",
        "    val0 = temp0\n",
        "    temp1 = val1 - a*( dL1.subs( {theta0: val0, theta1: val1} ) )\n",
        "    val1 = temp1\n",
        "    L_final[i]= L.subs( {theta0: val0, theta1: val1} )\n",
        "\n",
        "  return iterations, L_final, val0, val1"
      ],
      "execution_count": 0,
      "outputs": []
    },
    {
      "cell_type": "markdown",
      "metadata": {
        "colab_type": "text",
        "id": "b28DlUCo2LYb"
      },
      "source": [
        ">> (i) N=1000, α=0.1"
      ]
    },
    {
      "cell_type": "code",
      "metadata": {
        "id": "f8cys33e2Xi3",
        "colab_type": "code",
        "colab": {}
      },
      "source": [
        "theta0=Symbol('theta0')\n",
        "theta1=Symbol('theta1')\n",
        "\n",
        "iterations, L_final, val0, val1 = stochastic(x,y,n1,a1)\n",
        "\n",
        "plt.plot(iterations, L_final)\n",
        "plt.xlabel('N = 1000')\n",
        "plt.ylabel('L(\\N{GREEK SMALL LETTER THETA}) = \\N{GREEK CAPITAL LETTER SIGMA} [y-(\\N{GREEK SMALL LETTER THETA}\\N{SUBSCRIPT ZERO} + \\N{GREEK SMALL LETTER THETA}\\N{SUBSCRIPT ONE}•x)]\\N{SUPERSCRIPT TWO}')\n",
        "plt.title('\\N{GREEK SMALL LETTER ALPHA} = 0.1')\n",
        "plt.show()\n",
        "\n",
        "print()\n",
        "print('Minimum \\N{GREEK SMALL LETTER THETA}\\N{SUBSCRIPT ZERO}    ----->       \\N{GREEK SMALL LETTER THETA}\\N{SUBSCRIPT ONE}  =', val0)\n",
        "print('Minimum \\N{GREEK SMALL LETTER THETA}\\N{SUBSCRIPT ONE}    ----->       \\N{GREEK SMALL LETTER THETA}\\N{SUBSCRIPT TWO}  =', val1)\n",
        "print('Minimum L(\\N{GREEK SMALL LETTER THETA})  -----> L(\\N{GREEK SMALL LETTER THETA}\\N{SUBSCRIPT ONE}, \\N{GREEK SMALL LETTER THETA}\\N{SUBSCRIPT TWO}) =', min(L_final))"
      ],
      "execution_count": 0,
      "outputs": []
    },
    {
      "cell_type": "markdown",
      "metadata": {
        "id": "7CGZx7gx2Psq",
        "colab_type": "text"
      },
      "source": [
        ">> (ii) N=1000, α=0.01"
      ]
    },
    {
      "cell_type": "code",
      "metadata": {
        "id": "yZARZWCH5H32",
        "colab_type": "code",
        "colab": {}
      },
      "source": [
        "theta0=Symbol('theta0')\n",
        "theta1=Symbol('theta1')\n",
        "\n",
        "iterations, L_final, val0, val1 = stochastic(x,y,n1,a2)\n",
        "\n",
        "plt.plot(iterations, L_final)\n",
        "plt.xlabel('N = 1000')\n",
        "plt.ylabel('L(\\N{GREEK SMALL LETTER THETA}) = \\N{GREEK CAPITAL LETTER SIGMA} [y-(\\N{GREEK SMALL LETTER THETA}\\N{SUBSCRIPT ZERO} + \\N{GREEK SMALL LETTER THETA}\\N{SUBSCRIPT ONE}•x)]\\N{SUPERSCRIPT TWO}')\n",
        "plt.title('\\N{GREEK SMALL LETTER ALPHA} = 0.01')\n",
        "plt.show()\n",
        "\n",
        "print()\n",
        "print('Minimum \\N{GREEK SMALL LETTER THETA}\\N{SUBSCRIPT ZERO}    ----->       \\N{GREEK SMALL LETTER THETA}\\N{SUBSCRIPT ONE}  =', val0)\n",
        "print('Minimum \\N{GREEK SMALL LETTER THETA}\\N{SUBSCRIPT ONE}    ----->       \\N{GREEK SMALL LETTER THETA}\\N{SUBSCRIPT TWO}  =', val1)\n",
        "print('Minimum L(\\N{GREEK SMALL LETTER THETA})  -----> L(\\N{GREEK SMALL LETTER THETA}\\N{SUBSCRIPT ONE}, \\N{GREEK SMALL LETTER THETA}\\N{SUBSCRIPT TWO}) =', min(L_final))"
      ],
      "execution_count": 0,
      "outputs": []
    },
    {
      "cell_type": "markdown",
      "metadata": {
        "id": "vRHLjWEY2SKE",
        "colab_type": "text"
      },
      "source": [
        ">> (iii) N=100, α=0.1"
      ]
    },
    {
      "cell_type": "code",
      "metadata": {
        "id": "jVwYYMIa5MGC",
        "colab_type": "code",
        "colab": {}
      },
      "source": [
        "theta0=Symbol('theta0')\n",
        "theta1=Symbol('theta1')\n",
        "\n",
        "iterations, L_final, val0, val1 = stochastic(x,y,n2,a1)\n",
        "\n",
        "plt.plot(iterations, L_final)\n",
        "plt.xlabel('N = 100')\n",
        "plt.ylabel('L(\\N{GREEK SMALL LETTER THETA}) = \\N{GREEK CAPITAL LETTER SIGMA} [y-(\\N{GREEK SMALL LETTER THETA}\\N{SUBSCRIPT ZERO} + \\N{GREEK SMALL LETTER THETA}\\N{SUBSCRIPT ONE}•x)]\\N{SUPERSCRIPT TWO}')\n",
        "plt.title('\\N{GREEK SMALL LETTER ALPHA} = 0.1')\n",
        "plt.show()\n",
        "\n",
        "print()\n",
        "print('Minimum \\N{GREEK SMALL LETTER THETA}\\N{SUBSCRIPT ZERO}    ----->       \\N{GREEK SMALL LETTER THETA}\\N{SUBSCRIPT ONE}  =', val0)\n",
        "print('Minimum \\N{GREEK SMALL LETTER THETA}\\N{SUBSCRIPT ONE}    ----->       \\N{GREEK SMALL LETTER THETA}\\N{SUBSCRIPT TWO}  =', val1)\n",
        "print('Minimum L(\\N{GREEK SMALL LETTER THETA})  -----> L(\\N{GREEK SMALL LETTER THETA}\\N{SUBSCRIPT ONE}, \\N{GREEK SMALL LETTER THETA}\\N{SUBSCRIPT TWO}) =', min(L_final))"
      ],
      "execution_count": 0,
      "outputs": []
    },
    {
      "cell_type": "markdown",
      "metadata": {
        "id": "XYg3Z3362UHE",
        "colab_type": "text"
      },
      "source": [
        ">> (iv) N=100, α=0.01"
      ]
    },
    {
      "cell_type": "code",
      "metadata": {
        "id": "pkFiiVq25Sn3",
        "colab_type": "code",
        "colab": {}
      },
      "source": [
        "theta0=Symbol('theta0')\n",
        "theta1=Symbol('theta1')\n",
        "\n",
        "iterations, L_final, val0, val1 = stochastic(x,y,n2,a2)\n",
        "\n",
        "plt.plot(iterations, L_final)\n",
        "plt.xlabel('N = 100')\n",
        "plt.ylabel('L(\\N{GREEK SMALL LETTER THETA}) = \\N{GREEK CAPITAL LETTER SIGMA} [y-(\\N{GREEK SMALL LETTER THETA}\\N{SUBSCRIPT ZERO} + \\N{GREEK SMALL LETTER THETA}\\N{SUBSCRIPT ONE}•x)]\\N{SUPERSCRIPT TWO}')\n",
        "plt.title('\\N{GREEK SMALL LETTER ALPHA} = 0.01')\n",
        "plt.show()\n",
        "\n",
        "print()\n",
        "print('Minimum \\N{GREEK SMALL LETTER THETA}\\N{SUBSCRIPT ZERO}    ----->       \\N{GREEK SMALL LETTER THETA}\\N{SUBSCRIPT ONE}  =', val0)\n",
        "print('Minimum \\N{GREEK SMALL LETTER THETA}\\N{SUBSCRIPT ONE}    ----->       \\N{GREEK SMALL LETTER THETA}\\N{SUBSCRIPT TWO}  =', val1)\n",
        "print('Minimum L(\\N{GREEK SMALL LETTER THETA})  -----> L(\\N{GREEK SMALL LETTER THETA}\\N{SUBSCRIPT ONE}, \\N{GREEK SMALL LETTER THETA}\\N{SUBSCRIPT TWO}) =', min(L_final))"
      ],
      "execution_count": 0,
      "outputs": []
    },
    {
      "cell_type": "markdown",
      "metadata": {
        "colab_type": "text",
        "id": "THKMNdZv6Hkh"
      },
      "source": [
        "**############################################################################################**"
      ]
    },
    {
      "cell_type": "markdown",
      "metadata": {
        "id": "vjuLdKP85_pZ",
        "colab_type": "text"
      },
      "source": [
        "**Question-3 : Find minima of the following functions using Steepest Descent Approach using different learning rates and number of iterations.**"
      ]
    },
    {
      "cell_type": "markdown",
      "metadata": {
        "colab_type": "text",
        "id": "MGt8bApl8xXS"
      },
      "source": [
        "> Function for one parameter of the Steepest Descent Approach."
      ]
    },
    {
      "cell_type": "code",
      "metadata": {
        "id": "i-TzPL3z87kQ",
        "colab_type": "code",
        "colab": {}
      },
      "source": [
        "def steepest_one(L,n,a):\n",
        "  \n",
        "  theta0 = Symbol('theta0')\n",
        "  val = 8\n",
        "  L_final = [0]*n\n",
        "\n",
        "  dL = diff(L,theta0)\n",
        "  \n",
        "  alpha = Symbol('alpha')\n",
        "  at1 = L.subs(theta0, theta0-(alpha*dL))\n",
        "  at2 = diff(at1, alpha)  \n",
        "  at3 = diff(at2, alpha)\n",
        "  at4 = at2/at3   \n",
        "\n",
        "  iterations = np.arange(0,n,1)\n",
        "\n",
        "  for i in range(n):\n",
        "    for j in range(n):\n",
        "      a = a - at4.subs({alpha:a, theta0:val})\n",
        "    temp = val - a*(dL.subs(theta0,val))\n",
        "    val = temp\n",
        "    L_final[i]= L.subs(theta0,val)\n",
        "\n",
        "  return iterations, L_final, val"
      ],
      "execution_count": 0,
      "outputs": []
    },
    {
      "cell_type": "markdown",
      "metadata": {
        "id": "NByVne9l81rn",
        "colab_type": "text"
      },
      "source": [
        "> Function for two parameters of the Steepest Descent Approach."
      ]
    },
    {
      "cell_type": "code",
      "metadata": {
        "id": "ykLqybSD88lk",
        "colab_type": "code",
        "colab": {}
      },
      "source": [
        " def steepest_two(L,n,a):\n",
        "  \n",
        "  theta0 = Symbol('theta0')\n",
        "  theta1 = Symbol('theta1')\n",
        "\n",
        "  val0 = 7\n",
        "  val1 = 3\n",
        "  L_final = [0]*n\n",
        "\n",
        "  dL0 = diff(L,theta0)\n",
        "  dL1 = diff(L,theta1)\n",
        "\n",
        "  alpha = Symbol('alpha')\n",
        "  at1 = L.subs({theta0: theta0-(alpha*dL0), theta1: theta1-(alpha*dL1)})\n",
        "  at2 = diff(at1, alpha)  \n",
        "  at3 = diff(at2, alpha)\n",
        "  at4 = at2/at3   \n",
        "\n",
        "  iterations = np.arange(0,n,1)\n",
        "\n",
        "  for i in range(n):\n",
        "    for j in range(n):\n",
        "      a = a - at4.subs({alpha:a, theta0:val0, theta1:val1})\n",
        "    temp0 = val0 - a*( dL0.subs( {theta0: val0, theta1: val1} ) )\n",
        "    val0 = temp0\n",
        "    temp1 = val1 - a*( dL1.subs( {theta0: val0, theta1: val1} ) )\n",
        "    val1 = temp1\n",
        "    L_final[i]= L.subs( {theta0: val0, theta1: val1} )\n",
        "\n",
        "  return iterations, L_final, val0, val1"
      ],
      "execution_count": 0,
      "outputs": []
    },
    {
      "cell_type": "markdown",
      "metadata": {
        "colab_type": "text",
        "id": "6Qf_A-AQAtt5"
      },
      "source": [
        "**-------------------------------------------------------------------------------------------**"
      ]
    },
    {
      "cell_type": "markdown",
      "metadata": {
        "colab_type": "text",
        "id": "m6a437-gAtt_"
      },
      "source": [
        ">>**A)** L(θ) = θ²"
      ]
    },
    {
      "cell_type": "markdown",
      "metadata": {
        "colab_type": "text",
        "id": "05jTM842AtuA"
      },
      "source": [
        ">>> (i) N=5, α=0.1"
      ]
    },
    {
      "cell_type": "code",
      "metadata": {
        "colab_type": "code",
        "id": "cx1yz_z3AtuB",
        "colab": {}
      },
      "source": [
        "theta0=Symbol('theta0')\n",
        "\n",
        "L = theta0**2\n",
        "\n",
        "iterations, L_final, val = steepest_one(L,n3,a1)\n",
        "\n",
        "plt.plot(iterations, L_final)\n",
        "plt.xlabel('N = 5')\n",
        "plt.ylabel('L(\\N{GREEK SMALL LETTER THETA}) = \\N{GREEK SMALL LETTER THETA}\\N{SUPERSCRIPT TWO}')\n",
        "plt.title('\\N{GREEK SMALL LETTER ALPHA} = 0.1')\n",
        "plt.show()\n",
        "\n",
        "print()\n",
        "print('Minimum \\N{GREEK SMALL LETTER THETA}    ----->   \\N{GREEK SMALL LETTER THETA}\\N{SUBSCRIPT ZERO}  =', val)\n",
        "print('Minimum L(\\N{GREEK SMALL LETTER THETA}) -----> L(\\N{GREEK SMALL LETTER THETA}\\N{SUBSCRIPT ZERO}) =', min(L_final))"
      ],
      "execution_count": 0,
      "outputs": []
    },
    {
      "cell_type": "markdown",
      "metadata": {
        "colab_type": "text",
        "id": "hxgPhJa6AtuE"
      },
      "source": [
        ">>> (ii) N=5, α=0.01"
      ]
    },
    {
      "cell_type": "code",
      "metadata": {
        "colab_type": "code",
        "id": "7-XEo9d0AtuE",
        "colab": {}
      },
      "source": [
        "theta0=Symbol('theta0')\n",
        "\n",
        "L = theta0**2\n",
        "\n",
        "iterations, L_final, val = steepest_one(L,n3,a2)\n",
        "\n",
        "plt.plot(iterations, L_final)\n",
        "plt.xlabel('N = 5')\n",
        "plt.ylabel('L(\\N{GREEK SMALL LETTER THETA}) = \\N{GREEK SMALL LETTER THETA}\\N{SUPERSCRIPT TWO}')\n",
        "plt.title('\\N{GREEK SMALL LETTER ALPHA} = 0.01')\n",
        "plt.show()\n",
        "\n",
        "print()\n",
        "print('Minimum \\N{GREEK SMALL LETTER THETA}    ----->   \\N{GREEK SMALL LETTER THETA}\\N{SUBSCRIPT ZERO}  =', val)\n",
        "print('Minimum L(\\N{GREEK SMALL LETTER THETA}) -----> L(\\N{GREEK SMALL LETTER THETA}\\N{SUBSCRIPT ZERO}) =', min(L_final))"
      ],
      "execution_count": 0,
      "outputs": []
    },
    {
      "cell_type": "markdown",
      "metadata": {
        "colab_type": "text",
        "id": "s79SJ0pNAtuG"
      },
      "source": [
        ">>> (iii) N=10, α=0.1"
      ]
    },
    {
      "cell_type": "code",
      "metadata": {
        "colab_type": "code",
        "id": "SlFSimjjAtuH",
        "colab": {}
      },
      "source": [
        "theta0=Symbol('theta0')\n",
        "\n",
        "L = theta0**2\n",
        "\n",
        "iterations, L_final, val = steepest_one(L,n4,a1)\n",
        "\n",
        "plt.plot(iterations, L_final)\n",
        "plt.xlabel('N = 10')\n",
        "plt.ylabel('L(\\N{GREEK SMALL LETTER THETA}) = \\N{GREEK SMALL LETTER THETA}\\N{SUPERSCRIPT TWO}')\n",
        "plt.title('\\N{GREEK SMALL LETTER ALPHA} = 0.1')\n",
        "plt.show()\n",
        "\n",
        "print()\n",
        "print('Minimum \\N{GREEK SMALL LETTER THETA}    ----->   \\N{GREEK SMALL LETTER THETA}\\N{SUBSCRIPT ZERO}  =', val)\n",
        "print('Minimum L(\\N{GREEK SMALL LETTER THETA}) -----> L(\\N{GREEK SMALL LETTER THETA}\\N{SUBSCRIPT ZERO}) =', min(L_final))"
      ],
      "execution_count": 0,
      "outputs": []
    },
    {
      "cell_type": "markdown",
      "metadata": {
        "colab_type": "text",
        "id": "kWYgxV8rAtuJ"
      },
      "source": [
        ">>> (iv) N=10, α=0.01"
      ]
    },
    {
      "cell_type": "code",
      "metadata": {
        "colab_type": "code",
        "id": "f4MkQ_X2AtuM",
        "colab": {}
      },
      "source": [
        "theta0=Symbol('theta0')\n",
        "\n",
        "L = theta0**2\n",
        "\n",
        "iterations, L_final, val = steepest_one(L,n4,a2)\n",
        "\n",
        "plt.plot(iterations, L_final)\n",
        "plt.xlabel('N = 10')\n",
        "plt.ylabel('L(\\N{GREEK SMALL LETTER THETA}) = \\N{GREEK SMALL LETTER THETA}\\N{SUPERSCRIPT TWO}')\n",
        "plt.title('\\N{GREEK SMALL LETTER ALPHA} = 0.01')\n",
        "plt.show()\n",
        "\n",
        "print()\n",
        "print('Minimum \\N{GREEK SMALL LETTER THETA}    ----->   \\N{GREEK SMALL LETTER THETA}\\N{SUBSCRIPT ZERO}  =', val)\n",
        "print('Minimum L(\\N{GREEK SMALL LETTER THETA}) -----> L(\\N{GREEK SMALL LETTER THETA}\\N{SUBSCRIPT ZERO}) =', min(L_final))"
      ],
      "execution_count": 0,
      "outputs": []
    },
    {
      "cell_type": "markdown",
      "metadata": {
        "colab_type": "text",
        "id": "uXVl051HAtuO"
      },
      "source": [
        "**-------------------------------------------------------------------------------------------**"
      ]
    },
    {
      "cell_type": "markdown",
      "metadata": {
        "colab_type": "text",
        "id": "lOsNpy0JAtuO"
      },
      "source": [
        ">>**B)** L(θ) = θ₁² + θ₂² "
      ]
    },
    {
      "cell_type": "markdown",
      "metadata": {
        "colab_type": "text",
        "id": "8a9YTeDNAtuP"
      },
      "source": [
        ">>> (i) N=5, α=0.1"
      ]
    },
    {
      "cell_type": "code",
      "metadata": {
        "colab_type": "code",
        "id": "c1zQSgqAAtuP",
        "colab": {}
      },
      "source": [
        "theta1=Symbol('theta0')\n",
        "theta2=Symbol('theta1')\n",
        "\n",
        "L = theta1**2 + theta2**2\n",
        "\n",
        "iterations, L_final, val0, val1 = steepest_two(L,n3,a1)\n",
        "\n",
        "plt.plot(iterations, L_final)\n",
        "plt.xlabel('N = 5')\n",
        "plt.ylabel('L(\\N{GREEK SMALL LETTER THETA}) = \\N{GREEK SMALL LETTER THETA}\\N{SUBSCRIPT ONE}\\N{SUPERSCRIPT TWO} + \\N{GREEK SMALL LETTER THETA}\\N{SUBSCRIPT TWO}\\N{SUPERSCRIPT TWO}')\n",
        "plt.title('\\N{GREEK SMALL LETTER ALPHA} = 0.1')\n",
        "plt.show()\n",
        "\n",
        "print()\n",
        "print('Minimum \\N{GREEK SMALL LETTER THETA}\\N{SUBSCRIPT ONE}    ----->       \\N{GREEK SMALL LETTER THETA}\\N{SUBSCRIPT ONE}  =', val0)\n",
        "print('Minimum \\N{GREEK SMALL LETTER THETA}\\N{SUBSCRIPT TWO}    ----->       \\N{GREEK SMALL LETTER THETA}\\N{SUBSCRIPT TWO}  =', val1)\n",
        "print('Minimum L(\\N{GREEK SMALL LETTER THETA})  -----> L(\\N{GREEK SMALL LETTER THETA}\\N{SUBSCRIPT ONE}, \\N{GREEK SMALL LETTER THETA}\\N{SUBSCRIPT TWO}) =', min(L_final))"
      ],
      "execution_count": 0,
      "outputs": []
    },
    {
      "cell_type": "markdown",
      "metadata": {
        "colab_type": "text",
        "id": "Xh4Lbd3tAtuR"
      },
      "source": [
        ">>> (ii) N=5, α=0.01"
      ]
    },
    {
      "cell_type": "code",
      "metadata": {
        "colab_type": "code",
        "id": "owq8KY4gAtuS",
        "colab": {}
      },
      "source": [
        "theta1=Symbol('theta0')\n",
        "theta2=Symbol('theta1')\n",
        "\n",
        "L = theta1**2 + theta2**2\n",
        "\n",
        "iterations, L_final, val0, val1 = steepest_two(L,n3,a2)\n",
        "\n",
        "plt.plot(iterations, L_final)\n",
        "plt.xlabel('N = 5')\n",
        "plt.ylabel('L(\\N{GREEK SMALL LETTER THETA}) = \\N{GREEK SMALL LETTER THETA}\\N{SUBSCRIPT ONE}\\N{SUPERSCRIPT TWO} + \\N{GREEK SMALL LETTER THETA}\\N{SUBSCRIPT TWO}\\N{SUPERSCRIPT TWO}')\n",
        "plt.title('\\N{GREEK SMALL LETTER ALPHA} = 0.01')\n",
        "plt.show()\n",
        "\n",
        "print()\n",
        "print('Minimum \\N{GREEK SMALL LETTER THETA}\\N{SUBSCRIPT ONE}    ----->       \\N{GREEK SMALL LETTER THETA}\\N{SUBSCRIPT ONE}  =', val0)\n",
        "print('Minimum \\N{GREEK SMALL LETTER THETA}\\N{SUBSCRIPT TWO}    ----->       \\N{GREEK SMALL LETTER THETA}\\N{SUBSCRIPT TWO}  =', val1)\n",
        "print('Minimum L(\\N{GREEK SMALL LETTER THETA})  -----> L(\\N{GREEK SMALL LETTER THETA}\\N{SUBSCRIPT ONE}, \\N{GREEK SMALL LETTER THETA}\\N{SUBSCRIPT TWO}) =', min(L_final))"
      ],
      "execution_count": 0,
      "outputs": []
    },
    {
      "cell_type": "markdown",
      "metadata": {
        "colab_type": "text",
        "id": "6dwoChvjAtuU"
      },
      "source": [
        ">>> (iii) N=10, α=0.1"
      ]
    },
    {
      "cell_type": "code",
      "metadata": {
        "colab_type": "code",
        "id": "9iHEq6ulAtuU",
        "colab": {}
      },
      "source": [
        "theta1=Symbol('theta0')\n",
        "theta2=Symbol('theta1')\n",
        "\n",
        "L = theta1**2 + theta2**2\n",
        "\n",
        "iterations, L_final, val0, val1 = steepest_two(L,n4,a1)\n",
        "\n",
        "plt.plot(iterations, L_final)\n",
        "plt.xlabel('N = 10')\n",
        "plt.ylabel('L(\\N{GREEK SMALL LETTER THETA}) = \\N{GREEK SMALL LETTER THETA}\\N{SUBSCRIPT ONE}\\N{SUPERSCRIPT TWO} + \\N{GREEK SMALL LETTER THETA}\\N{SUBSCRIPT TWO}\\N{SUPERSCRIPT TWO}')\n",
        "plt.title('\\N{GREEK SMALL LETTER ALPHA} = 0.1')\n",
        "plt.show()\n",
        "\n",
        "print()\n",
        "print('Minimum \\N{GREEK SMALL LETTER THETA}\\N{SUBSCRIPT ONE}    ----->       \\N{GREEK SMALL LETTER THETA}\\N{SUBSCRIPT ONE}  =', val0)\n",
        "print('Minimum \\N{GREEK SMALL LETTER THETA}\\N{SUBSCRIPT TWO}    ----->       \\N{GREEK SMALL LETTER THETA}\\N{SUBSCRIPT TWO}  =', val1)\n",
        "print('Minimum L(\\N{GREEK SMALL LETTER THETA})  -----> L(\\N{GREEK SMALL LETTER THETA}\\N{SUBSCRIPT ONE}, \\N{GREEK SMALL LETTER THETA}\\N{SUBSCRIPT TWO}) =', min(L_final))"
      ],
      "execution_count": 0,
      "outputs": []
    },
    {
      "cell_type": "markdown",
      "metadata": {
        "colab_type": "text",
        "id": "Ylg7dwhrAtuX"
      },
      "source": [
        ">>> (iv) N=10, α=0.01"
      ]
    },
    {
      "cell_type": "code",
      "metadata": {
        "colab_type": "code",
        "id": "pvOX6kHxAtuX",
        "colab": {}
      },
      "source": [
        "theta1=Symbol('theta0')\n",
        "theta2=Symbol('theta1')\n",
        "\n",
        "L = theta1**2 + theta2**2\n",
        "\n",
        "iterations, L_final, val0, val1 = steepest_two(L,n4,a2)\n",
        "\n",
        "plt.plot(iterations, L_final)\n",
        "plt.xlabel('N = 10')\n",
        "plt.ylabel('L(\\N{GREEK SMALL LETTER THETA}) = \\N{GREEK SMALL LETTER THETA}\\N{SUBSCRIPT ONE}\\N{SUPERSCRIPT TWO} + \\N{GREEK SMALL LETTER THETA}\\N{SUBSCRIPT TWO}\\N{SUPERSCRIPT TWO}')\n",
        "plt.title('\\N{GREEK SMALL LETTER ALPHA} = 0.01')\n",
        "plt.show()\n",
        "\n",
        "print()\n",
        "print('Minimum \\N{GREEK SMALL LETTER THETA}\\N{SUBSCRIPT ONE}    ----->       \\N{GREEK SMALL LETTER THETA}\\N{SUBSCRIPT ONE}  =', val0)\n",
        "print('Minimum \\N{GREEK SMALL LETTER THETA}\\N{SUBSCRIPT TWO}    ----->       \\N{GREEK SMALL LETTER THETA}\\N{SUBSCRIPT TWO}  =', val1)\n",
        "print('Minimum L(\\N{GREEK SMALL LETTER THETA})  -----> L(\\N{GREEK SMALL LETTER THETA}\\N{SUBSCRIPT ONE}, \\N{GREEK SMALL LETTER THETA}\\N{SUBSCRIPT TWO}) =', min(L_final))"
      ],
      "execution_count": 0,
      "outputs": []
    },
    {
      "cell_type": "markdown",
      "metadata": {
        "colab_type": "text",
        "id": "0sVMUeDtAtuZ"
      },
      "source": [
        "**-------------------------------------------------------------------------------------------**"
      ]
    },
    {
      "cell_type": "markdown",
      "metadata": {
        "colab_type": "text",
        "id": "dSJ_kzFxAtua"
      },
      "source": [
        ">>**C)** L(θ) = (θ-1)²"
      ]
    },
    {
      "cell_type": "markdown",
      "metadata": {
        "colab_type": "text",
        "id": "poU3PC98Atua"
      },
      "source": [
        ">>> (i) N=5, α=0.1"
      ]
    },
    {
      "cell_type": "code",
      "metadata": {
        "colab_type": "code",
        "id": "AjEYNfiAAtub",
        "colab": {}
      },
      "source": [
        "theta0=Symbol('theta0')\n",
        "\n",
        "L = (theta0-1)**2\n",
        "\n",
        "iterations, L_final, val = steepest_one(L,n3,a1)\n",
        "\n",
        "plt.plot(iterations, L_final)\n",
        "plt.xlabel('N = 5')\n",
        "plt.ylabel('L(\\N{GREEK SMALL LETTER THETA}) = (\\N{GREEK SMALL LETTER THETA}-1)\\N{SUPERSCRIPT TWO}')\n",
        "plt.title('\\N{GREEK SMALL LETTER ALPHA} = 0.1')\n",
        "plt.show()\n",
        "\n",
        "print()\n",
        "print('Minimum \\N{GREEK SMALL LETTER THETA}    ----->   \\N{GREEK SMALL LETTER THETA}\\N{SUBSCRIPT ZERO}  =', val)\n",
        "print('Minimum L(\\N{GREEK SMALL LETTER THETA}) -----> L(\\N{GREEK SMALL LETTER THETA}\\N{SUBSCRIPT ZERO}) =', min(L_final))"
      ],
      "execution_count": 0,
      "outputs": []
    },
    {
      "cell_type": "markdown",
      "metadata": {
        "colab_type": "text",
        "id": "2fluzdb6Atud"
      },
      "source": [
        ">>> (ii) N=5, α=0.01"
      ]
    },
    {
      "cell_type": "code",
      "metadata": {
        "colab_type": "code",
        "id": "4yi90t4tAtue",
        "colab": {}
      },
      "source": [
        "theta0=Symbol('theta0')\n",
        "\n",
        "L = (theta0-1)**2\n",
        "\n",
        "iterations, L_final, val = steepest_one(L,n3,a2)\n",
        "\n",
        "plt.plot(iterations, L_final)\n",
        "plt.xlabel('N = 5')\n",
        "plt.ylabel('L(\\N{GREEK SMALL LETTER THETA}) = (\\N{GREEK SMALL LETTER THETA}-1)\\N{SUPERSCRIPT TWO}')\n",
        "plt.title('\\N{GREEK SMALL LETTER ALPHA} = 0.01')\n",
        "plt.show()\n",
        "\n",
        "print()\n",
        "print('Minimum \\N{GREEK SMALL LETTER THETA}    ----->   \\N{GREEK SMALL LETTER THETA}\\N{SUBSCRIPT ZERO}  =', val)\n",
        "print('Minimum L(\\N{GREEK SMALL LETTER THETA}) -----> L(\\N{GREEK SMALL LETTER THETA}\\N{SUBSCRIPT ZERO}) =', min(L_final))"
      ],
      "execution_count": 0,
      "outputs": []
    },
    {
      "cell_type": "markdown",
      "metadata": {
        "colab_type": "text",
        "id": "7iCdAEfkAtuf"
      },
      "source": [
        ">>> (iii) N=10, α=0.1"
      ]
    },
    {
      "cell_type": "code",
      "metadata": {
        "colab_type": "code",
        "id": "_QNa45PPAtug",
        "colab": {}
      },
      "source": [
        "theta0=Symbol('theta0')\n",
        "\n",
        "L = (theta0-1)**2\n",
        "\n",
        "iterations, L_final, val = steepest_one(L,n4,a1)\n",
        "\n",
        "plt.plot(iterations, L_final)\n",
        "plt.xlabel('N = 10')\n",
        "plt.ylabel('L(\\N{GREEK SMALL LETTER THETA}) = (\\N{GREEK SMALL LETTER THETA}-1)\\N{SUPERSCRIPT TWO}')\n",
        "plt.title('\\N{GREEK SMALL LETTER ALPHA} = 0.1')\n",
        "plt.show()\n",
        "\n",
        "print()\n",
        "print('Minimum \\N{GREEK SMALL LETTER THETA}    ----->   \\N{GREEK SMALL LETTER THETA}\\N{SUBSCRIPT ZERO}  =', val)\n",
        "print('Minimum L(\\N{GREEK SMALL LETTER THETA}) -----> L(\\N{GREEK SMALL LETTER THETA}\\N{SUBSCRIPT ZERO}) =', min(L_final))"
      ],
      "execution_count": 0,
      "outputs": []
    },
    {
      "cell_type": "markdown",
      "metadata": {
        "colab_type": "text",
        "id": "5fRYTGAxAtuj"
      },
      "source": [
        ">>> (iv) N=10, α=0.01"
      ]
    },
    {
      "cell_type": "code",
      "metadata": {
        "colab_type": "code",
        "id": "ZzPakL71Atuj",
        "colab": {}
      },
      "source": [
        "theta0=Symbol('theta0')\n",
        "\n",
        "L = (theta0-1)**2\n",
        "\n",
        "iterations, L_final, val = steepest_one(L,n4,a2)\n",
        "\n",
        "plt.plot(iterations, L_final)\n",
        "plt.xlabel('N = 10')\n",
        "plt.ylabel('L(\\N{GREEK SMALL LETTER THETA}) = (\\N{GREEK SMALL LETTER THETA}-1)\\N{SUPERSCRIPT TWO}')\n",
        "plt.title('\\N{GREEK SMALL LETTER ALPHA} = 0.01')\n",
        "plt.show()\n",
        "\n",
        "print()\n",
        "print('Minimum \\N{GREEK SMALL LETTER THETA}    ----->   \\N{GREEK SMALL LETTER THETA}\\N{SUBSCRIPT ZERO}  =', val)\n",
        "print('Minimum L(\\N{GREEK SMALL LETTER THETA}) -----> L(\\N{GREEK SMALL LETTER THETA}\\N{SUBSCRIPT ZERO}) =', min(L_final))"
      ],
      "execution_count": 0,
      "outputs": []
    },
    {
      "cell_type": "markdown",
      "metadata": {
        "colab_type": "text",
        "id": "VPM0GMSSAtul"
      },
      "source": [
        "**-------------------------------------------------------------------------------------------**"
      ]
    },
    {
      "cell_type": "markdown",
      "metadata": {
        "colab_type": "text",
        "id": "BoYsZMczAtum"
      },
      "source": [
        ">>**D)** L(θ) = 2(θ₁-1)² + 2(θ₂-1)² "
      ]
    },
    {
      "cell_type": "markdown",
      "metadata": {
        "colab_type": "text",
        "id": "z2wx5spTAtum"
      },
      "source": [
        ">>> (i) N=5, α=0.1"
      ]
    },
    {
      "cell_type": "code",
      "metadata": {
        "colab_type": "code",
        "id": "RaQZFFAMAtun",
        "colab": {}
      },
      "source": [
        "theta1=Symbol('theta0')\n",
        "theta2=Symbol('theta1')\n",
        "\n",
        "L = 2*((theta1-1)**2 + (theta2-1)**2)\n",
        "\n",
        "iterations, L_final, val0, val1 = steepest_two(L,n3,a1)\n",
        "\n",
        "plt.plot(iterations, L_final)\n",
        "plt.xlabel('N = 5')\n",
        "plt.ylabel('L(\\N{GREEK SMALL LETTER THETA}) = 2(\\N{GREEK SMALL LETTER THETA}\\N{SUBSCRIPT ONE}-1)\\N{SUPERSCRIPT TWO} + 2(\\N{GREEK SMALL LETTER THETA}\\N{SUBSCRIPT TWO}-1)\\N{SUPERSCRIPT TWO}')\n",
        "plt.title('\\N{GREEK SMALL LETTER ALPHA} = 0.1')\n",
        "plt.show()\n",
        "\n",
        "print()\n",
        "print('Minimum \\N{GREEK SMALL LETTER THETA}\\N{SUBSCRIPT ONE}    ----->       \\N{GREEK SMALL LETTER THETA}\\N{SUBSCRIPT ONE}  =', val0)\n",
        "print('Minimum \\N{GREEK SMALL LETTER THETA}\\N{SUBSCRIPT TWO}    ----->       \\N{GREEK SMALL LETTER THETA}\\N{SUBSCRIPT TWO}  =', val1)\n",
        "print('Minimum L(\\N{GREEK SMALL LETTER THETA})  -----> L(\\N{GREEK SMALL LETTER THETA}\\N{SUBSCRIPT ONE}, \\N{GREEK SMALL LETTER THETA}\\N{SUBSCRIPT TWO}) =', min(L_final))"
      ],
      "execution_count": 0,
      "outputs": []
    },
    {
      "cell_type": "markdown",
      "metadata": {
        "colab_type": "text",
        "id": "JsovyhFWAtuo"
      },
      "source": [
        ">>> (ii) N=5, α=0.01"
      ]
    },
    {
      "cell_type": "code",
      "metadata": {
        "colab_type": "code",
        "id": "s-pM8bbLAtup",
        "colab": {}
      },
      "source": [
        "theta1=Symbol('theta0')\n",
        "theta2=Symbol('theta1')\n",
        "\n",
        "L = 2*((theta1-1)**2 + (theta2-1)**2)\n",
        "\n",
        "iterations, L_final, val0, val1 = steepest_two(L,n3,a2)\n",
        "\n",
        "plt.plot(iterations, L_final)\n",
        "plt.xlabel('N = 5')\n",
        "plt.ylabel('L(\\N{GREEK SMALL LETTER THETA}) = 2(\\N{GREEK SMALL LETTER THETA}\\N{SUBSCRIPT ONE}-1)\\N{SUPERSCRIPT TWO} + 2(\\N{GREEK SMALL LETTER THETA}\\N{SUBSCRIPT TWO}-1)\\N{SUPERSCRIPT TWO}')\n",
        "plt.title('\\N{GREEK SMALL LETTER ALPHA} = 0.01')\n",
        "plt.show()\n",
        "\n",
        "print()\n",
        "print('Minimum \\N{GREEK SMALL LETTER THETA}\\N{SUBSCRIPT ONE}    ----->       \\N{GREEK SMALL LETTER THETA}\\N{SUBSCRIPT ONE}  =', val0)\n",
        "print('Minimum \\N{GREEK SMALL LETTER THETA}\\N{SUBSCRIPT TWO}    ----->       \\N{GREEK SMALL LETTER THETA}\\N{SUBSCRIPT TWO}  =', val1)\n",
        "print('Minimum L(\\N{GREEK SMALL LETTER THETA})  -----> L(\\N{GREEK SMALL LETTER THETA}\\N{SUBSCRIPT ONE}, \\N{GREEK SMALL LETTER THETA}\\N{SUBSCRIPT TWO}) =', min(L_final))"
      ],
      "execution_count": 0,
      "outputs": []
    },
    {
      "cell_type": "markdown",
      "metadata": {
        "colab_type": "text",
        "id": "Fv1rFKbuAtur"
      },
      "source": [
        ">>> (iii) N=10, α=0.1"
      ]
    },
    {
      "cell_type": "code",
      "metadata": {
        "colab_type": "code",
        "id": "xCnrVTE0Atus",
        "colab": {}
      },
      "source": [
        "theta1=Symbol('theta0')\n",
        "theta2=Symbol('theta1')\n",
        "\n",
        "L = 2*((theta1-1)**2 + (theta2-1)**2)\n",
        "\n",
        "iterations, L_final, val0, val1 = steepest_two(L,n4,a1)\n",
        "\n",
        "plt.plot(iterations, L_final)\n",
        "plt.xlabel('N = 10')\n",
        "plt.ylabel('L(\\N{GREEK SMALL LETTER THETA}) = 2(\\N{GREEK SMALL LETTER THETA}\\N{SUBSCRIPT ONE}-1)\\N{SUPERSCRIPT TWO} + 2(\\N{GREEK SMALL LETTER THETA}\\N{SUBSCRIPT TWO}-1)\\N{SUPERSCRIPT TWO}')\n",
        "plt.title('\\N{GREEK SMALL LETTER ALPHA} = 0.1')\n",
        "plt.show()\n",
        "\n",
        "print()\n",
        "print('Minimum \\N{GREEK SMALL LETTER THETA}\\N{SUBSCRIPT ONE}    ----->       \\N{GREEK SMALL LETTER THETA}\\N{SUBSCRIPT ONE}  =', val0)\n",
        "print('Minimum \\N{GREEK SMALL LETTER THETA}\\N{SUBSCRIPT TWO}    ----->       \\N{GREEK SMALL LETTER THETA}\\N{SUBSCRIPT TWO}  =', val1)\n",
        "print('Minimum L(\\N{GREEK SMALL LETTER THETA})  -----> L(\\N{GREEK SMALL LETTER THETA}\\N{SUBSCRIPT ONE}, \\N{GREEK SMALL LETTER THETA}\\N{SUBSCRIPT TWO}) =', min(L_final))"
      ],
      "execution_count": 0,
      "outputs": []
    },
    {
      "cell_type": "markdown",
      "metadata": {
        "colab_type": "text",
        "id": "kVoM6gD-Atuv"
      },
      "source": [
        ">>> (iv) N=10, α=0.01"
      ]
    },
    {
      "cell_type": "code",
      "metadata": {
        "colab_type": "code",
        "id": "rf2up-jPAtuv",
        "colab": {}
      },
      "source": [
        "theta1=Symbol('theta0')\n",
        "theta2=Symbol('theta1')\n",
        "\n",
        "L = 2*((theta1-1)**2 + (theta2-1)**2)\n",
        "\n",
        "iterations, L_final, val0, val1 = steepest_two(L,n4,a2)\n",
        "\n",
        "plt.plot(iterations, L_final)\n",
        "plt.xlabel('N = 10')\n",
        "plt.ylabel('L(\\N{GREEK SMALL LETTER THETA}) = 2(\\N{GREEK SMALL LETTER THETA}\\N{SUBSCRIPT ONE}-1)\\N{SUPERSCRIPT TWO} + 2(\\N{GREEK SMALL LETTER THETA}\\N{SUBSCRIPT TWO}-1)\\N{SUPERSCRIPT TWO}')\n",
        "plt.title('\\N{GREEK SMALL LETTER ALPHA} = 0.01')\n",
        "plt.show()\n",
        "\n",
        "print()\n",
        "print('Minimum \\N{GREEK SMALL LETTER THETA}\\N{SUBSCRIPT ONE}    ----->       \\N{GREEK SMALL LETTER THETA}\\N{SUBSCRIPT ONE}  =', val0)\n",
        "print('Minimum \\N{GREEK SMALL LETTER THETA}\\N{SUBSCRIPT TWO}    ----->       \\N{GREEK SMALL LETTER THETA}\\N{SUBSCRIPT TWO}  =', val1)\n",
        "print('Minimum L(\\N{GREEK SMALL LETTER THETA})  -----> L(\\N{GREEK SMALL LETTER THETA}\\N{SUBSCRIPT ONE}, \\N{GREEK SMALL LETTER THETA}\\N{SUBSCRIPT TWO}) =', min(L_final))"
      ],
      "execution_count": 0,
      "outputs": []
    },
    {
      "cell_type": "markdown",
      "metadata": {
        "colab_type": "text",
        "id": "USg8-gYfAtux"
      },
      "source": [
        "**-------------------------------------------------------------------------------------------**"
      ]
    },
    {
      "cell_type": "markdown",
      "metadata": {
        "colab_type": "text",
        "id": "Qi6a-VN1Atux"
      },
      "source": [
        ">>**E)** L(θ) = Σ [ y - (θ₀ + θ₁•x) ]² "
      ]
    },
    {
      "cell_type": "markdown",
      "metadata": {
        "colab_type": "text",
        "id": "jQo4SmFuAtuy"
      },
      "source": [
        ">>> (i) N=5, α=0.1"
      ]
    },
    {
      "cell_type": "code",
      "metadata": {
        "colab_type": "code",
        "id": "wcXXAjmgAtuz",
        "colab": {}
      },
      "source": [
        "theta0=Symbol('theta0')\n",
        "theta1=Symbol('theta1')\n",
        "\n",
        "l1 = theta0 + theta1*x\n",
        "l2 = y - l1\n",
        "L = np.sum(l2**2)\n",
        "\n",
        "iterations, L_final, val0, val1 = steepest_two(L,n3,a1)\n",
        "\n",
        "plt.plot(iterations, L_final)\n",
        "plt.xlabel('N = 5')\n",
        "plt.ylabel('L(\\N{GREEK SMALL LETTER THETA}) = \\N{GREEK CAPITAL LETTER SIGMA} [y-(\\N{GREEK SMALL LETTER THETA}\\N{SUBSCRIPT ZERO} + \\N{GREEK SMALL LETTER THETA}\\N{SUBSCRIPT ONE}•x)]\\N{SUPERSCRIPT TWO}')\n",
        "plt.title('\\N{GREEK SMALL LETTER ALPHA} = 0.1')\n",
        "plt.show()\n",
        "\n",
        "print()\n",
        "print('Minimum \\N{GREEK SMALL LETTER THETA}\\N{SUBSCRIPT ZERO}    ----->       \\N{GREEK SMALL LETTER THETA}\\N{SUBSCRIPT ONE}  =', val0)\n",
        "print('Minimum \\N{GREEK SMALL LETTER THETA}\\N{SUBSCRIPT ONE}    ----->       \\N{GREEK SMALL LETTER THETA}\\N{SUBSCRIPT TWO}  =', val1)\n",
        "print('Minimum L(\\N{GREEK SMALL LETTER THETA})  -----> L(\\N{GREEK SMALL LETTER THETA}\\N{SUBSCRIPT ONE}, \\N{GREEK SMALL LETTER THETA}\\N{SUBSCRIPT TWO}) =', min(L_final))"
      ],
      "execution_count": 0,
      "outputs": []
    },
    {
      "cell_type": "markdown",
      "metadata": {
        "colab_type": "text",
        "id": "ZNWjXvUvAtu1"
      },
      "source": [
        ">>> (ii) N=5, α=0.01"
      ]
    },
    {
      "cell_type": "code",
      "metadata": {
        "colab_type": "code",
        "id": "rCLd12_YAtu1",
        "colab": {}
      },
      "source": [
        "theta0=Symbol('theta0')\n",
        "theta1=Symbol('theta1')\n",
        "\n",
        "l1 = theta0 + theta1*x\n",
        "l2 = y - l1\n",
        "L = np.sum(l2**2)\n",
        "\n",
        "iterations, L_final, val0, val1 = steepest_two(L,n3,a2)\n",
        "\n",
        "plt.plot(iterations, L_final)\n",
        "plt.xlabel('N = 5')\n",
        "plt.ylabel('L(\\N{GREEK SMALL LETTER THETA}) = \\N{GREEK CAPITAL LETTER SIGMA} [y-(\\N{GREEK SMALL LETTER THETA}\\N{SUBSCRIPT ZERO} + \\N{GREEK SMALL LETTER THETA}\\N{SUBSCRIPT ONE}•x)]\\N{SUPERSCRIPT TWO}')\n",
        "plt.title('\\N{GREEK SMALL LETTER ALPHA} = 0.01')\n",
        "plt.show()\n",
        "\n",
        "print()\n",
        "print('Minimum \\N{GREEK SMALL LETTER THETA}\\N{SUBSCRIPT ZERO}    ----->       \\N{GREEK SMALL LETTER THETA}\\N{SUBSCRIPT ONE}  =', val0)\n",
        "print('Minimum \\N{GREEK SMALL LETTER THETA}\\N{SUBSCRIPT ONE}    ----->       \\N{GREEK SMALL LETTER THETA}\\N{SUBSCRIPT TWO}  =', val1)\n",
        "print('Minimum L(\\N{GREEK SMALL LETTER THETA})  -----> L(\\N{GREEK SMALL LETTER THETA}\\N{SUBSCRIPT ONE}, \\N{GREEK SMALL LETTER THETA}\\N{SUBSCRIPT TWO}) =', min(L_final))"
      ],
      "execution_count": 0,
      "outputs": []
    },
    {
      "cell_type": "markdown",
      "metadata": {
        "colab_type": "text",
        "id": "jGM0A038Atu3"
      },
      "source": [
        ">>> (iii) N=10, α=0.1"
      ]
    },
    {
      "cell_type": "code",
      "metadata": {
        "colab_type": "code",
        "id": "-6SueHCFAtu3",
        "colab": {}
      },
      "source": [
        "theta0=Symbol('theta0')\n",
        "theta1=Symbol('theta1')\n",
        "\n",
        "l1 = theta0 + theta1*x\n",
        "l2 = y - l1\n",
        "L = np.sum(l2**2)\n",
        "\n",
        "iterations, L_final, val0, val1 = steepest_two(L,n4,a1)\n",
        "\n",
        "plt.plot(iterations, L_final)\n",
        "plt.xlabel('N = 10')\n",
        "plt.ylabel('L(\\N{GREEK SMALL LETTER THETA}) = \\N{GREEK CAPITAL LETTER SIGMA} [y-(\\N{GREEK SMALL LETTER THETA}\\N{SUBSCRIPT ZERO} + \\N{GREEK SMALL LETTER THETA}\\N{SUBSCRIPT ONE}•x)]\\N{SUPERSCRIPT TWO}')\n",
        "plt.title('\\N{GREEK SMALL LETTER ALPHA} = 0.1')\n",
        "plt.show()\n",
        "\n",
        "print()\n",
        "print('Minimum \\N{GREEK SMALL LETTER THETA}\\N{SUBSCRIPT ZERO}    ----->       \\N{GREEK SMALL LETTER THETA}\\N{SUBSCRIPT ONE}  =', val0)\n",
        "print('Minimum \\N{GREEK SMALL LETTER THETA}\\N{SUBSCRIPT ONE}    ----->       \\N{GREEK SMALL LETTER THETA}\\N{SUBSCRIPT TWO}  =', val1)\n",
        "print('Minimum L(\\N{GREEK SMALL LETTER THETA})  -----> L(\\N{GREEK SMALL LETTER THETA}\\N{SUBSCRIPT ONE}, \\N{GREEK SMALL LETTER THETA}\\N{SUBSCRIPT TWO}) =', min(L_final))"
      ],
      "execution_count": 0,
      "outputs": []
    },
    {
      "cell_type": "markdown",
      "metadata": {
        "colab_type": "text",
        "id": "KyI2cfaCAtu6"
      },
      "source": [
        ">>> (iv) N=10, α=0.01"
      ]
    },
    {
      "cell_type": "code",
      "metadata": {
        "colab_type": "code",
        "id": "-74mqPq_Atu6",
        "colab": {}
      },
      "source": [
        "theta0=Symbol('theta0')\n",
        "theta1=Symbol('theta1')\n",
        "\n",
        "l1 = theta0 + theta1*x\n",
        "l2 = y - l1\n",
        "L = np.sum(l2**2)\n",
        "\n",
        "iterations, L_final, val0, val1 = steepest_two(L,n4,a2)\n",
        "\n",
        "plt.plot(iterations, L_final)\n",
        "plt.xlabel('N = 10')\n",
        "plt.ylabel('L(\\N{GREEK SMALL LETTER THETA}) = \\N{GREEK CAPITAL LETTER SIGMA} [y-(\\N{GREEK SMALL LETTER THETA}\\N{SUBSCRIPT ZERO} + \\N{GREEK SMALL LETTER THETA}\\N{SUBSCRIPT ONE}•x)]\\N{SUPERSCRIPT TWO}')\n",
        "plt.title('\\N{GREEK SMALL LETTER ALPHA} = 0.01')\n",
        "plt.show()\n",
        "\n",
        "print()\n",
        "print('Minimum \\N{GREEK SMALL LETTER THETA}\\N{SUBSCRIPT ZERO}    ----->       \\N{GREEK SMALL LETTER THETA}\\N{SUBSCRIPT ONE}  =', val0)\n",
        "print('Minimum \\N{GREEK SMALL LETTER THETA}\\N{SUBSCRIPT ONE}    ----->       \\N{GREEK SMALL LETTER THETA}\\N{SUBSCRIPT TWO}  =', val1)\n",
        "print('Minimum L(\\N{GREEK SMALL LETTER THETA})  -----> L(\\N{GREEK SMALL LETTER THETA}\\N{SUBSCRIPT ONE}, \\N{GREEK SMALL LETTER THETA}\\N{SUBSCRIPT TWO}) =', min(L_final))"
      ],
      "execution_count": 0,
      "outputs": []
    },
    {
      "cell_type": "markdown",
      "metadata": {
        "colab_type": "text",
        "id": "Btd4Epq1Atu8"
      },
      "source": [
        "**---------------------- END OF CODE ----------------------**"
      ]
    }
  ]
}