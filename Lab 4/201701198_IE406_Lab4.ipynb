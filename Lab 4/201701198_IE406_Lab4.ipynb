{
  "nbformat": 4,
  "nbformat_minor": 0,
  "metadata": {
    "colab": {
      "name": "201701198_IE406_Lab4.ipynb",
      "provenance": [],
      "collapsed_sections": []
    },
    "kernelspec": {
      "name": "python3",
      "display_name": "Python 3"
    }
  },
  "cells": [
    {
      "cell_type": "markdown",
      "metadata": {
        "id": "yXd0HQ9RauEE",
        "colab_type": "text"
      },
      "source": [
        "Mounting the Google Drive."
      ]
    },
    {
      "cell_type": "code",
      "metadata": {
        "id": "pEi0vTH3ZAHW",
        "colab_type": "code",
        "cellView": "both",
        "colab": {}
      },
      "source": [
        "from google.colab import drive\n",
        "drive.mount('/content/drive/')"
      ],
      "execution_count": 0,
      "outputs": []
    },
    {
      "cell_type": "markdown",
      "metadata": {
        "id": "BmjOEmOga0AV",
        "colab_type": "text"
      },
      "source": [
        "\n",
        "Importing Libraries"
      ]
    },
    {
      "cell_type": "code",
      "metadata": {
        "id": "tBORpo6KiYwM",
        "colab_type": "code",
        "colab": {}
      },
      "source": [
        "import matplotlib.pyplot as plt \n",
        "import numpy as np\n",
        "from sympy import *\n",
        "import pandas as pd\n",
        "from mpl_toolkits.mplot3d import axes3d\n",
        "import math as mt"
      ],
      "execution_count": 0,
      "outputs": []
    },
    {
      "cell_type": "markdown",
      "metadata": {
        "id": "Wi7cbZeEcnU5",
        "colab_type": "text"
      },
      "source": [
        "**-------------------------------------------------------------------------------------------**"
      ]
    },
    {
      "cell_type": "markdown",
      "metadata": {
        "id": "bkxZ74zpnucQ",
        "colab_type": "text"
      },
      "source": [
        "Reading MNIST Training Dataset (.csv) file."
      ]
    },
    {
      "cell_type": "code",
      "metadata": {
        "id": "UbXePfd5o76M",
        "colab_type": "code",
        "colab": {}
      },
      "source": [
        "df = pd.read_csv('/content/drive/My Drive/IE406- ML- Labs/Lab 4/mnist_train.csv') "
      ],
      "execution_count": 0,
      "outputs": []
    },
    {
      "cell_type": "markdown",
      "metadata": {
        "colab_type": "text",
        "id": "o-5ym6t7byVk"
      },
      "source": [
        "Reading MNIST Testing Dataset (.csv) file."
      ]
    },
    {
      "cell_type": "code",
      "metadata": {
        "id": "g27pTZrdb288",
        "colab_type": "code",
        "colab": {}
      },
      "source": [
        "test_set = pd.read_csv('/content/drive/My Drive/IE406- ML- Labs/Lab 4/mnist_test.csv')\n",
        "test = test_set.values"
      ],
      "execution_count": 0,
      "outputs": []
    },
    {
      "cell_type": "markdown",
      "metadata": {
        "id": "oPhMs3incpHs",
        "colab_type": "text"
      },
      "source": [
        "**-------------------------------------------------------------------------------------------**"
      ]
    },
    {
      "cell_type": "markdown",
      "metadata": {
        "id": "SpPXoRG4UyKL",
        "colab_type": "text"
      },
      "source": [
        "Model."
      ]
    },
    {
      "cell_type": "code",
      "metadata": {
        "id": "ue2CceEmqnak",
        "colab_type": "code",
        "colab": {}
      },
      "source": [
        "y = df['label']\n",
        "prob = np.zeros([10,1])\n",
        "for i in range(len(y)):\n",
        "  prob[y[i]] = prob[y[i]] + 1\n",
        "\n",
        "prob = prob/len(y)\n",
        "#print(prob)"
      ],
      "execution_count": 0,
      "outputs": []
    },
    {
      "cell_type": "code",
      "metadata": {
        "id": "MFlTnAuucryS",
        "colab_type": "code",
        "colab": {}
      },
      "source": [
        "x0 = df[df['label']==0].drop(columns='label').values\n",
        "x1 = df[df['label']==1].drop(columns='label').values\n",
        "x2 = df[df['label']==2].drop(columns='label').values\n",
        "x3 = df[df['label']==3].drop(columns='label').values\n",
        "x4 = df[df['label']==4].drop(columns='label').values\n",
        "x5 = df[df['label']==5].drop(columns='label').values\n",
        "x6 = df[df['label']==6].drop(columns='label').values\n",
        "x7 = df[df['label']==7].drop(columns='label').values\n",
        "x8 = df[df['label']==8].drop(columns='label').values\n",
        "x9 = df[df['label']==9].drop(columns='label').values"
      ],
      "execution_count": 0,
      "outputs": []
    },
    {
      "cell_type": "code",
      "metadata": {
        "id": "OtehcjgScwQc",
        "colab_type": "code",
        "colab": {}
      },
      "source": [
        "m0 = x0.mean()\n",
        "m1 = x1.mean()\n",
        "m2 = x2.mean()\n",
        "m3 = x3.mean()\n",
        "m4 = x4.mean()\n",
        "m5 = x5.mean()\n",
        "m6 = x6.mean()\n",
        "m7 = x7.mean()\n",
        "m8 = x8.mean()\n",
        "m9 = x9.mean()\n",
        "\n",
        "means = [m0,m1,m2,m3,m4,m5,m6,m7,m8,m9]\n",
        "means = np.asarray(means)"
      ],
      "execution_count": 0,
      "outputs": []
    },
    {
      "cell_type": "code",
      "metadata": {
        "id": "af_d4XaOc3YI",
        "colab_type": "code",
        "colab": {}
      },
      "source": [
        "c0 = np.cov(x0)\n",
        "c1 = np.cov(x1)\n",
        "c2 = np.cov(x2)\n",
        "c3 = np.cov(x3)\n",
        "c4 = np.cov(x4)\n",
        "c5 = np.cov(x5)\n",
        "c6 = np.cov(x6)\n",
        "c7 = np.cov(x7)\n",
        "c8 = np.cov(x8)\n",
        "c9 = np.cov(x9)\n",
        "\n",
        "c = [c0,c1,c2,c3,c4,c5,c6,c7,c8,c9]"
      ],
      "execution_count": 0,
      "outputs": []
    },
    {
      "cell_type": "code",
      "metadata": {
        "id": "gGO-TJ3tc8oo",
        "colab_type": "code",
        "colab": {}
      },
      "source": [
        "c0i = np.linalg.pinv(c0)\n",
        "c1i = np.linalg.pinv(c1)\n",
        "c2i = np.linalg.pinv(c2)\n",
        "c3i = np.linalg.pinv(c3)\n",
        "c4i = np.linalg.pinv(c4)\n",
        "c5i = np.linalg.pinv(c5)\n",
        "c6i = np.linalg.pinv(c6)\n",
        "c7i = np.linalg.pinv(c7)\n",
        "c8i = np.linalg.pinv(c8)\n",
        "c9i = np.linalg.pinv(c9)\n",
        "\n",
        "c_inv = [c0i,c1i,c2i,c3i,c4i,c5i,c6i,c7i,c8i,c9i]\n",
        "c_inv = np.asarray(c_inv)"
      ],
      "execution_count": 0,
      "outputs": []
    },
    {
      "cell_type": "code",
      "metadata": {
        "id": "BdppBk07dFw1",
        "colab_type": "code",
        "colab": {}
      },
      "source": [
        "mean_c = (c0 + c1 + c2 + c3 + c4 + c5 + c6 + c7 + c8 + c9 )/10\n",
        "c_minv = np.linalg.pinv(mean_c)"
      ],
      "execution_count": 0,
      "outputs": []
    },
    {
      "cell_type": "markdown",
      "metadata": {
        "id": "4LTPJHVOdI4Z",
        "colab_type": "text"
      },
      "source": [
        "**-------------------------------------------------------------------------------------------**"
      ]
    },
    {
      "cell_type": "markdown",
      "metadata": {
        "id": "VntKurPkdN0Y",
        "colab_type": "text"
      },
      "source": [
        "Linear Discriminant Analysis."
      ]
    },
    {
      "cell_type": "code",
      "metadata": {
        "id": "r0DhQXHvdUj7",
        "colab_type": "code",
        "outputId": "ebdb1dd5-3109-4b9a-b96f-beea70befc50",
        "colab": {
          "base_uri": "https://localhost:8080/",
          "height": 33
        }
      },
      "source": [
        "accuracy = 0\n",
        "for i in range(len(test)):\n",
        "  x = test[i,1:]\n",
        "  minimum = 100000000000\n",
        "  prediction = -1;\n",
        "  for j in range(10):\n",
        "    p = (x - means[j]).reshape(1,784)\n",
        "    temp = np.matmul(p,np.matmul(c_minv,p.T))\n",
        "    if temp < minimum:\n",
        "      minimum = temp\n",
        "      prediction = j\n",
        "  \n",
        "  if prediction == test[i,0]:\n",
        "    accuracy = accuracy + 1\n",
        "  \n",
        "print('Accuracy of LDA =',accuracy*100/len(test),'%')  "
      ],
      "execution_count": 0,
      "outputs": [
        {
          "output_type": "stream",
          "text": [
            "Accuracy of LDA = 87.26 %\n"
          ],
          "name": "stdout"
        }
      ]
    },
    {
      "cell_type": "markdown",
      "metadata": {
        "colab_type": "text",
        "id": "cPL5PtBhdfa1"
      },
      "source": [
        "**-------------------------------------------------------------------------------------------**"
      ]
    },
    {
      "cell_type": "markdown",
      "metadata": {
        "colab_type": "text",
        "id": "s08dYOdBdhv6"
      },
      "source": [
        "Quadratic Discriminant Analysis."
      ]
    },
    {
      "cell_type": "code",
      "metadata": {
        "id": "EsGOe3WidkdM",
        "colab_type": "code",
        "outputId": "aa6cead7-8546-477b-9549-0ac55e3837ba",
        "colab": {
          "base_uri": "https://localhost:8080/",
          "height": 33
        }
      },
      "source": [
        " accuracy = 0\n",
        " for i in range(len(test)): \n",
        "   x = test[i,1:]\n",
        "   maximum = -100000000000000;\n",
        "   prediction = -1;\n",
        "   for j in range(10):\n",
        "     p = (x - means[j]).reshape(1,784)\n",
        "     temp = -(np.matmul(p,np.matmul(c_inv[j],p.T)))/2 + mt.log(prob[j])\n",
        "     if temp > maximum:\n",
        "       maximum = temp\n",
        "       prediction = j\n",
        "  \n",
        "   if prediction == test[i,0]:\n",
        "     accuracy = accuracy + 1\n",
        "  \n",
        "print('Accuracy of QDA =',accuracy*100/len(test),'%')"
      ],
      "execution_count": 0,
      "outputs": [
        {
          "output_type": "stream",
          "text": [
            "Accuracy of QDA = 85.72 %\n"
          ],
          "name": "stdout"
        }
      ]
    },
    {
      "cell_type": "markdown",
      "metadata": {
        "colab_type": "text",
        "id": "Btd4Epq1Atu8"
      },
      "source": [
        "**------------------------------------ END OF CODE ------------------------------------**"
      ]
    }
  ]
}